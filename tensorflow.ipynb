{
 "cells": [
  {
   "cell_type": "markdown",
   "metadata": {},
   "source": [
    "# ANN Introduction - Tensorflow Basics"
   ]
  },
  {
   "cell_type": "code",
   "execution_count": 130,
   "metadata": {},
   "outputs": [],
   "source": [
    "%matplotlib inline"
   ]
  },
  {
   "cell_type": "code",
   "execution_count": 133,
   "metadata": {},
   "outputs": [],
   "source": [
    "import tensorflow as tf\n",
    "import matplotlib\n",
    "import matplotlib.pyplot as plt\n",
    "import numpy as np\n",
    "from tensorflow import keras\n",
    "from tensorflow.keras import layers"
   ]
  },
  {
   "cell_type": "markdown",
   "metadata": {},
   "source": [
    "# Numpy Introduction\n",
    "\n",
    "\n",
    "## Reference\n",
    "\n",
    "\n",
    "- Numpy Manual: https://docs.scipy.org/doc/numpy/\n",
    "\n",
    "## Create Arrays"
   ]
  },
  {
   "cell_type": "markdown",
   "metadata": {},
   "source": [
    "### Manual Creation"
   ]
  },
  {
   "cell_type": "code",
   "execution_count": null,
   "metadata": {},
   "outputs": [],
   "source": [
    "a1 = np.array([[1,2,3],[4,5,6],[7,8,9]])\n",
    "a1"
   ]
  },
  {
   "cell_type": "markdown",
   "metadata": {},
   "source": [
    "### Reshape"
   ]
  },
  {
   "cell_type": "code",
   "execution_count": null,
   "metadata": {},
   "outputs": [],
   "source": [
    "a2 = np.arange(1,10).reshape(3,3)\n",
    "a2"
   ]
  },
  {
   "cell_type": "markdown",
   "metadata": {},
   "source": [
    "### zeors, ones, empty, random, randn"
   ]
  },
  {
   "cell_type": "code",
   "execution_count": null,
   "metadata": {},
   "outputs": [],
   "source": [
    "a3 = np.empty((3,3))\n",
    "a4 = np.zeros((3,3))\n",
    "a5 = np.ones((3,3))\n",
    "a6 = np.random.random((3,3))\n",
    "a7 = np.random.randn(3,3)"
   ]
  },
  {
   "cell_type": "code",
   "execution_count": null,
   "metadata": {
    "scrolled": true
   },
   "outputs": [],
   "source": [
    "print(a3)\n",
    "print(a4)\n",
    "print(a5)\n",
    "print(a6)\n",
    "print(a7)"
   ]
  },
  {
   "cell_type": "markdown",
   "metadata": {},
   "source": [
    "## Array Propertites"
   ]
  },
  {
   "cell_type": "markdown",
   "metadata": {},
   "source": [
    "### ndim, shape, size, dtype"
   ]
  },
  {
   "cell_type": "code",
   "execution_count": null,
   "metadata": {},
   "outputs": [],
   "source": [
    "a1 = np.arange(1,10).reshape(3,3)\n",
    "a1"
   ]
  },
  {
   "cell_type": "code",
   "execution_count": null,
   "metadata": {},
   "outputs": [],
   "source": [
    "print(a1.ndim)\n",
    "print(a1.shape)\n",
    "print(a1.size)\n",
    "print(a1.dtype)"
   ]
  },
  {
   "cell_type": "markdown",
   "metadata": {},
   "source": [
    "### Change dtype"
   ]
  },
  {
   "cell_type": "code",
   "execution_count": null,
   "metadata": {},
   "outputs": [],
   "source": [
    "a2 = a1.astype(float)\n",
    "print(a1)\n",
    "print(a1.dtype)\n",
    "print(a2)\n",
    "print(a2.dtype)"
   ]
  },
  {
   "cell_type": "markdown",
   "metadata": {},
   "source": [
    "## Functions"
   ]
  },
  {
   "cell_type": "markdown",
   "metadata": {},
   "source": [
    "### Basic"
   ]
  },
  {
   "cell_type": "code",
   "execution_count": null,
   "metadata": {},
   "outputs": [],
   "source": [
    "a1 = np.array([[1,2,3], [4,5,6], [7,8,9]])\n",
    "a2 = np.ones((3,3))\n",
    "print(a1)\n",
    "print(a2)"
   ]
  },
  {
   "cell_type": "code",
   "execution_count": null,
   "metadata": {},
   "outputs": [],
   "source": [
    "print(a1 + a2)"
   ]
  },
  {
   "cell_type": "code",
   "execution_count": null,
   "metadata": {},
   "outputs": [],
   "source": [
    "print(a1 - a2)"
   ]
  },
  {
   "cell_type": "code",
   "execution_count": null,
   "metadata": {},
   "outputs": [],
   "source": [
    "print(a1 + 2 * a2)"
   ]
  },
  {
   "cell_type": "code",
   "execution_count": null,
   "metadata": {},
   "outputs": [],
   "source": [
    "print(a1.sum())\n",
    "print(a1.max())\n",
    "print(a1.min())"
   ]
  },
  {
   "cell_type": "markdown",
   "metadata": {},
   "source": [
    "### Customized Functions"
   ]
  },
  {
   "cell_type": "code",
   "execution_count": 134,
   "metadata": {},
   "outputs": [],
   "source": [
    "def gaussian(x, m, s):\n",
    "    return (1.0 / (s * np.sqrt(2 * np.pi))) * np.exp(-np.power(x - m, 2.0) / (2 * np.power(s, 2.0)))"
   ]
  },
  {
   "cell_type": "code",
   "execution_count": 135,
   "metadata": {},
   "outputs": [],
   "source": [
    "x = np.linspace(-5, 5, 200)"
   ]
  },
  {
   "cell_type": "code",
   "execution_count": 136,
   "metadata": {},
   "outputs": [],
   "source": [
    "y = gaussian(x,0,1)"
   ]
  },
  {
   "cell_type": "code",
   "execution_count": 137,
   "metadata": {},
   "outputs": [
    {
     "data": {
      "text/plain": [
       "<function matplotlib.pyplot.show(*args, **kw)>"
      ]
     },
     "execution_count": 137,
     "metadata": {},
     "output_type": "execute_result"
    },
    {
     "data": {
      "image/png": "[encoded data removed]",
      "text/plain": [
       "<Figure size 432x288 with 1 Axes>"
      ]
     },
     "metadata": {
      "needs_background": "light"
     },
     "output_type": "display_data"
    }
   ],
   "source": [
    "plt.plot(x,y)\n",
    "plt.show"
   ]
  },
  {
   "cell_type": "markdown",
   "metadata": {},
   "source": [
    "# Tensorflow Basic"
   ]
  },
  {
   "cell_type": "markdown",
   "metadata": {},
   "source": [
    "- Architecture: https://www.tensorflow.org/guide/extend/architecture"
   ]
  },
  {
   "cell_type": "markdown",
   "metadata": {},
   "source": [
    "## Low Level API\n",
    "\n",
    "- TensorFlow Core\n",
    "- The interal exposed API for advanced users\n",
    "- Not recommended for most users"
   ]
  },
  {
   "cell_type": "markdown",
   "metadata": {},
   "source": [
    "## High Level API\n",
    "\n",
    "- Keras: https://keras.io/\n",
    "- Fast prototyping\n",
    "- Production\n",
    "- User friendly"
   ]
  },
  {
   "cell_type": "markdown",
   "metadata": {},
   "source": [
    "## Demo 1 - Regression"
   ]
  },
  {
   "cell_type": "markdown",
   "metadata": {},
   "source": [
    "**Regression Target Function**: y = x\\*\\*2 + y\\*\\*2"
   ]
  },
  {
   "cell_type": "code",
   "execution_count": 138,
   "metadata": {},
   "outputs": [
    {
     "data": {
      "text/plain": [
       "<mpl_toolkits.mplot3d.art3d.Poly3DCollection at 0x7f7e0f686d10>"
      ]
     },
     "execution_count": 138,
     "metadata": {},
     "output_type": "execute_result"
    },
    {
     "data": {
      "image/png": "[encoded data removed]",
      "text/plain": [
       "<Figure size 432x288 with 1 Axes>"
      ]
     },
     "metadata": {
      "needs_background": "light"
     },
     "output_type": "display_data"
    }
   ],
   "source": [
    "from mpl_toolkits.mplot3d import Axes3D\n",
    "\n",
    "x = np.linspace(-10, 10, 100)\n",
    "y = np.linspace(-10, 10, 100)\n",
    "\n",
    "X, Y = np.meshgrid(x, y)\n",
    "Z = X**2 + Y**2\n",
    "\n",
    "fig = plt.figure()\n",
    "ax = fig.add_subplot(111, projection='3d')\n",
    "ax.plot_surface(X, Y, Z)"
   ]
  },
  {
   "cell_type": "markdown",
   "metadata": {},
   "source": [
    "### Build the Model\n",
    "\n",
    "- Input: [x, y]\n",
    "- Ouput: z\n",
    "- Num. of layers: 1 x Input + 1 x Hidden + 1 x Output = 3"
   ]
  },
  {
   "cell_type": "code",
   "execution_count": 139,
   "metadata": {},
   "outputs": [
    {
     "name": "stdout",
     "output_type": "stream",
     "text": [
      "Model: \"sequential_3\"\n",
      "_________________________________________________________________\n",
      "Layer (type)                 Output Shape              Param #   \n",
      "=================================================================\n",
      "dense_6 (Dense)              (None, 64)                192       \n",
      "_________________________________________________________________\n",
      "dense_7 (Dense)              (None, 1)                 65        \n",
      "=================================================================\n",
      "Total params: 257\n",
      "Trainable params: 257\n",
      "Non-trainable params: 0\n",
      "_________________________________________________________________\n"
     ]
    }
   ],
   "source": [
    "model = keras.Sequential(\n",
    "    [\n",
    "        layers.Dense(64, activation='sigmoid', input_shape=(2,)),\n",
    "        layers.Dense(1)\n",
    "    ]\n",
    ")\n",
    "optimizer = keras.optimizers.RMSprop(0.01)\n",
    "model.compile(\n",
    "    loss='mse',\n",
    "    optimizer=optimizer,\n",
    "    metrics=['mse']\n",
    ")\n",
    "model.summary()"
   ]
  },
  {
   "cell_type": "code",
   "execution_count": 140,
   "metadata": {},
   "outputs": [],
   "source": [
    "def sampling(x, y):\n",
    "    X, Y = np.meshgrid(x, y)\n",
    "    Z = X**2 + Y**2\n",
    "    samples = np.stack((X.flatten(),Y.flatten(),Z.flatten()), axis=1)\n",
    "    np.random.shuffle(samples)\n",
    "    return samples\n",
    "\n",
    "def split_labels(samples):\n",
    "    return (samples[:,0:-1], samples[:,-1])\n",
    "\n",
    "def split_samples(samples, ratio):\n",
    "    sep = int(samples.shape[0] * ratio)\n",
    "    return (samples[0:sep], samples[sep:])"
   ]
  },
  {
   "cell_type": "code",
   "execution_count": 141,
   "metadata": {},
   "outputs": [
    {
     "name": "stdout",
     "output_type": "stream",
     "text": [
      "Train on 800000 samples\n",
      "Epoch 1/10\n",
      "800000/800000 [==============================] - 16s 20us/sample - loss: 1813.3649 - mse: 1813.3645\n",
      "Epoch 2/10\n",
      "800000/800000 [==============================] - 16s 20us/sample - loss: 1594.3231 - mse: 1594.3240\n",
      "Epoch 3/10\n",
      "800000/800000 [==============================] - 17s 21us/sample - loss: 105.7845 - mse: 105.7837\n",
      "Epoch 4/10\n",
      "800000/800000 [==============================] - 22s 27us/sample - loss: 1.7065 - mse: 1.7065\n",
      "Epoch 5/10\n",
      "800000/800000 [==============================] - 17s 21us/sample - loss: 1.5047 - mse: 1.5047\n",
      "Epoch 6/10\n",
      "800000/800000 [==============================] - 17s 21us/sample - loss: 1.4075 - mse: 1.4075\n",
      "Epoch 7/10\n",
      "800000/800000 [==============================] - 16s 20us/sample - loss: 1.3348 - mse: 1.3348\n",
      "Epoch 8/10\n",
      "800000/800000 [==============================] - 17s 21us/sample - loss: 1.2817 - mse: 1.2817\n",
      "Epoch 9/10\n",
      "800000/800000 [==============================] - 18s 22us/sample - loss: 1.2342 - mse: 1.2342\n",
      "Epoch 10/10\n",
      "800000/800000 [==============================] - 17s 22us/sample - loss: 1.1977 - mse: 1.1977\n"
     ]
    }
   ],
   "source": [
    "x = np.linspace(-10, 10, 1000)\n",
    "y = np.linspace(-10, 10, 1000)\n",
    "\n",
    "samples = sampling(x, y)\n",
    "\n",
    "train_samples, test_samples = split_samples(samples, 0.8)\n",
    "\n",
    "(train_x, train_y) = split_labels(train_samples)\n",
    "(test_x, test_y) = split_labels(test_samples)\n",
    "\n",
    "history = model.fit(train_x, train_y, batch_size=100, epochs=10)"
   ]
  },
  {
   "cell_type": "code",
   "execution_count": 142,
   "metadata": {},
   "outputs": [
    {
     "name": "stdout",
     "output_type": "stream",
     "text": [
      "200000/200000 [==============================] - 7s 37us/sample - loss: 1.9481 - mse: 1.9481\n"
     ]
    }
   ],
   "source": [
    "ret = model.evaluate(test_x, test_y)"
   ]
  },
  {
   "cell_type": "code",
   "execution_count": 143,
   "metadata": {},
   "outputs": [
    {
     "name": "stdout",
     "output_type": "stream",
     "text": [
      "10000/10000 [==============================] - 0s 39us/sample - loss: 2.0715 - mse: 2.0715\n"
     ]
    },
    {
     "data": {
      "text/plain": [
       "<mpl_toolkits.mplot3d.art3d.Poly3DCollection at 0x7f7e12fd8d90>"
      ]
     },
     "execution_count": 143,
     "metadata": {},
     "output_type": "execute_result"
    },
    {
     "data": {
      "image/png": "[encoded data removed]",
      "text/plain": [
       "<Figure size 432x288 with 1 Axes>"
      ]
     },
     "metadata": {
      "needs_background": "light"
     },
     "output_type": "display_data"
    }
   ],
   "source": [
    "x = np.linspace(-10, 10, 100)\n",
    "y = np.linspace(-10, 10, 100)\n",
    "\n",
    "X, Y = np.meshgrid(x, y)\n",
    "Z = X**2 + Y**2\n",
    "\n",
    "v_samples = sampling(x, y)\n",
    "v_x, v_actual = split_labels(v_samples)\n",
    "v_y = model.predict(v_x)\n",
    "model.evaluate(v_x, v_actual)\n",
    "\n",
    "fig = plt.figure()\n",
    "ax = fig.add_subplot(111, projection='3d')\n",
    "ax.plot_surface(X, Y, Z)\n",
    "ax.plot_surface(X, Y, v_y.reshape(100,100))"
   ]
  },
  {
   "cell_type": "code",
   "execution_count": 147,
   "metadata": {},
   "outputs": [
    {
     "data": {
      "text/plain": [
       "<matplotlib.legend.Legend at 0x7f7e12138710>"
      ]
     },
     "execution_count": 147,
     "metadata": {},
     "output_type": "execute_result"
    },
    {
     "data": {
      "image/png": "[encoded data removed]",
      "text/plain": [
       "<Figure size 432x288 with 1 Axes>"
      ]
     },
     "metadata": {
      "needs_background": "light"
     },
     "output_type": "display_data"
    }
   ],
   "source": [
    "history.history.keys()\n",
    "fig, ax = plt.subplots()\n",
    "ax.plot(history.history['mse'], label=\"MSE\")\n",
    "ax.plot(history.history['loss'], label=\"LOSS\")\n",
    "ax.legend()"
   ]
  },
  {
   "cell_type": "markdown",
   "metadata": {},
   "source": [
    "## Demo 2 - Binary Classification"
   ]
  },
  {
   "cell_type": "markdown",
   "metadata": {},
   "source": [
    "### Load Data - Titanic"
   ]
  },
  {
   "cell_type": "code",
   "execution_count": 148,
   "metadata": {},
   "outputs": [],
   "source": [
    "import pandas as pd\n",
    "data_raw = pd.read_csv('data/titanic_train.csv')\n",
    "data = pd.read_csv('data/titanic_clean_numeric.csv')"
   ]
  },
  {
   "cell_type": "code",
   "execution_count": 149,
   "metadata": {},
   "outputs": [
    {
     "data": {
      "text/html": [
       "<div>\n",
       "<style scoped>\n",
       "    .dataframe tbody tr th:only-of-type {\n",
       "        vertical-align: middle;\n",
       "    }\n",
       "\n",
       "    .dataframe tbody tr th {\n",
       "        vertical-align: top;\n",
       "    }\n",
       "\n",
       "    .dataframe thead th {\n",
       "        text-align: right;\n",
       "    }\n",
       "</style>\n",
       "<table border=\"1\" class=\"dataframe\">\n",
       "  <thead>\n",
       "    <tr style=\"text-align: right;\">\n",
       "      <th></th>\n",
       "      <th>PassengerId</th>\n",
       "      <th>Survived</th>\n",
       "      <th>Pclass</th>\n",
       "      <th>Name</th>\n",
       "      <th>Sex</th>\n",
       "      <th>Age</th>\n",
       "      <th>SibSp</th>\n",
       "      <th>Parch</th>\n",
       "      <th>Ticket</th>\n",
       "      <th>Fare</th>\n",
       "      <th>Cabin</th>\n",
       "      <th>Embarked</th>\n",
       "    </tr>\n",
       "  </thead>\n",
       "  <tbody>\n",
       "    <tr>\n",
       "      <th>0</th>\n",
       "      <td>1</td>\n",
       "      <td>0</td>\n",
       "      <td>3</td>\n",
       "      <td>Braund, Mr. Owen Harris</td>\n",
       "      <td>male</td>\n",
       "      <td>22.0</td>\n",
       "      <td>1</td>\n",
       "      <td>0</td>\n",
       "      <td>A/5 21171</td>\n",
       "      <td>7.2500</td>\n",
       "      <td>NaN</td>\n",
       "      <td>S</td>\n",
       "    </tr>\n",
       "    <tr>\n",
       "      <th>1</th>\n",
       "      <td>2</td>\n",
       "      <td>1</td>\n",
       "      <td>1</td>\n",
       "      <td>Cumings, Mrs. John Bradley (Florence Briggs Th...</td>\n",
       "      <td>female</td>\n",
       "      <td>38.0</td>\n",
       "      <td>1</td>\n",
       "      <td>0</td>\n",
       "      <td>PC 17599</td>\n",
       "      <td>71.2833</td>\n",
       "      <td>C85</td>\n",
       "      <td>C</td>\n",
       "    </tr>\n",
       "    <tr>\n",
       "      <th>2</th>\n",
       "      <td>3</td>\n",
       "      <td>1</td>\n",
       "      <td>3</td>\n",
       "      <td>Heikkinen, Miss. Laina</td>\n",
       "      <td>female</td>\n",
       "      <td>26.0</td>\n",
       "      <td>0</td>\n",
       "      <td>0</td>\n",
       "      <td>STON/O2. 3101282</td>\n",
       "      <td>7.9250</td>\n",
       "      <td>NaN</td>\n",
       "      <td>S</td>\n",
       "    </tr>\n",
       "    <tr>\n",
       "      <th>3</th>\n",
       "      <td>4</td>\n",
       "      <td>1</td>\n",
       "      <td>1</td>\n",
       "      <td>Futrelle, Mrs. Jacques Heath (Lily May Peel)</td>\n",
       "      <td>female</td>\n",
       "      <td>35.0</td>\n",
       "      <td>1</td>\n",
       "      <td>0</td>\n",
       "      <td>113803</td>\n",
       "      <td>53.1000</td>\n",
       "      <td>C123</td>\n",
       "      <td>S</td>\n",
       "    </tr>\n",
       "    <tr>\n",
       "      <th>4</th>\n",
       "      <td>5</td>\n",
       "      <td>0</td>\n",
       "      <td>3</td>\n",
       "      <td>Allen, Mr. William Henry</td>\n",
       "      <td>male</td>\n",
       "      <td>35.0</td>\n",
       "      <td>0</td>\n",
       "      <td>0</td>\n",
       "      <td>373450</td>\n",
       "      <td>8.0500</td>\n",
       "      <td>NaN</td>\n",
       "      <td>S</td>\n",
       "    </tr>\n",
       "  </tbody>\n",
       "</table>\n",
       "</div>"
      ],
      "text/plain": [
       "   PassengerId  Survived  Pclass  \\\n",
       "0            1         0       3   \n",
       "1            2         1       1   \n",
       "2            3         1       3   \n",
       "3            4         1       1   \n",
       "4            5         0       3   \n",
       "\n",
       "                                                Name     Sex   Age  SibSp  \\\n",
       "0                            Braund, Mr. Owen Harris    male  22.0      1   \n",
       "1  Cumings, Mrs. John Bradley (Florence Briggs Th...  female  38.0      1   \n",
       "2                             Heikkinen, Miss. Laina  female  26.0      0   \n",
       "3       Futrelle, Mrs. Jacques Heath (Lily May Peel)  female  35.0      1   \n",
       "4                           Allen, Mr. William Henry    male  35.0      0   \n",
       "\n",
       "   Parch            Ticket     Fare Cabin Embarked  \n",
       "0      0         A/5 21171   7.2500   NaN        S  \n",
       "1      0          PC 17599  71.2833   C85        C  \n",
       "2      0  STON/O2. 3101282   7.9250   NaN        S  \n",
       "3      0            113803  53.1000  C123        S  \n",
       "4      0            373450   8.0500   NaN        S  "
      ]
     },
     "execution_count": 149,
     "metadata": {},
     "output_type": "execute_result"
    }
   ],
   "source": [
    "data_raw.head()"
   ]
  },
  {
   "cell_type": "code",
   "execution_count": 150,
   "metadata": {},
   "outputs": [
    {
     "data": {
      "text/html": [
       "<div>\n",
       "<style scoped>\n",
       "    .dataframe tbody tr th:only-of-type {\n",
       "        vertical-align: middle;\n",
       "    }\n",
       "\n",
       "    .dataframe tbody tr th {\n",
       "        vertical-align: top;\n",
       "    }\n",
       "\n",
       "    .dataframe thead th {\n",
       "        text-align: right;\n",
       "    }\n",
       "</style>\n",
       "<table border=\"1\" class=\"dataframe\">\n",
       "  <thead>\n",
       "    <tr style=\"text-align: right;\">\n",
       "      <th></th>\n",
       "      <th>Unnamed: 0</th>\n",
       "      <th>Survived</th>\n",
       "      <th>Pclass</th>\n",
       "      <th>Sex</th>\n",
       "      <th>SibSp</th>\n",
       "      <th>Parch</th>\n",
       "      <th>Embarked</th>\n",
       "      <th>Initial</th>\n",
       "      <th>Age_band</th>\n",
       "      <th>Family_Size</th>\n",
       "      <th>Alone</th>\n",
       "      <th>Fare_cat</th>\n",
       "    </tr>\n",
       "  </thead>\n",
       "  <tbody>\n",
       "    <tr>\n",
       "      <th>0</th>\n",
       "      <td>0</td>\n",
       "      <td>0</td>\n",
       "      <td>3</td>\n",
       "      <td>0</td>\n",
       "      <td>1</td>\n",
       "      <td>0</td>\n",
       "      <td>0</td>\n",
       "      <td>0</td>\n",
       "      <td>1</td>\n",
       "      <td>1</td>\n",
       "      <td>0</td>\n",
       "      <td>0</td>\n",
       "    </tr>\n",
       "    <tr>\n",
       "      <th>1</th>\n",
       "      <td>1</td>\n",
       "      <td>1</td>\n",
       "      <td>1</td>\n",
       "      <td>1</td>\n",
       "      <td>1</td>\n",
       "      <td>0</td>\n",
       "      <td>1</td>\n",
       "      <td>1</td>\n",
       "      <td>2</td>\n",
       "      <td>1</td>\n",
       "      <td>0</td>\n",
       "      <td>3</td>\n",
       "    </tr>\n",
       "    <tr>\n",
       "      <th>2</th>\n",
       "      <td>2</td>\n",
       "      <td>1</td>\n",
       "      <td>3</td>\n",
       "      <td>1</td>\n",
       "      <td>0</td>\n",
       "      <td>0</td>\n",
       "      <td>0</td>\n",
       "      <td>2</td>\n",
       "      <td>1</td>\n",
       "      <td>0</td>\n",
       "      <td>1</td>\n",
       "      <td>1</td>\n",
       "    </tr>\n",
       "    <tr>\n",
       "      <th>3</th>\n",
       "      <td>3</td>\n",
       "      <td>1</td>\n",
       "      <td>1</td>\n",
       "      <td>1</td>\n",
       "      <td>1</td>\n",
       "      <td>0</td>\n",
       "      <td>0</td>\n",
       "      <td>1</td>\n",
       "      <td>2</td>\n",
       "      <td>1</td>\n",
       "      <td>0</td>\n",
       "      <td>3</td>\n",
       "    </tr>\n",
       "    <tr>\n",
       "      <th>4</th>\n",
       "      <td>4</td>\n",
       "      <td>0</td>\n",
       "      <td>3</td>\n",
       "      <td>0</td>\n",
       "      <td>0</td>\n",
       "      <td>0</td>\n",
       "      <td>0</td>\n",
       "      <td>0</td>\n",
       "      <td>2</td>\n",
       "      <td>0</td>\n",
       "      <td>1</td>\n",
       "      <td>1</td>\n",
       "    </tr>\n",
       "  </tbody>\n",
       "</table>\n",
       "</div>"
      ],
      "text/plain": [
       "   Unnamed: 0  Survived  Pclass  Sex  SibSp  Parch  Embarked  Initial  \\\n",
       "0           0         0       3    0      1      0         0        0   \n",
       "1           1         1       1    1      1      0         1        1   \n",
       "2           2         1       3    1      0      0         0        2   \n",
       "3           3         1       1    1      1      0         0        1   \n",
       "4           4         0       3    0      0      0         0        0   \n",
       "\n",
       "   Age_band  Family_Size  Alone  Fare_cat  \n",
       "0         1            1      0         0  \n",
       "1         2            1      0         3  \n",
       "2         1            0      1         1  \n",
       "3         2            1      0         3  \n",
       "4         2            0      1         1  "
      ]
     },
     "execution_count": 150,
     "metadata": {},
     "output_type": "execute_result"
    }
   ],
   "source": [
    "data.head()"
   ]
  },
  {
   "cell_type": "markdown",
   "metadata": {},
   "source": [
    "### Split Data"
   ]
  },
  {
   "cell_type": "code",
   "execution_count": 151,
   "metadata": {},
   "outputs": [],
   "source": [
    "data_train = data.loc[:599]\n",
    "data_val = data.loc[599:]"
   ]
  },
  {
   "cell_type": "code",
   "execution_count": 152,
   "metadata": {},
   "outputs": [],
   "source": [
    "train_x = data_train.loc[:, data.columns != \"Survived\"]\n",
    "train_y = data_train.loc[:, data.columns == \"Survived\"]\n",
    "val_x = data_val.loc[:, data.columns != \"Survived\"]\n",
    "val_y = data_val.loc[:, data.columns == \"Survived\"]"
   ]
  },
  {
   "cell_type": "code",
   "execution_count": 153,
   "metadata": {},
   "outputs": [
    {
     "name": "stdout",
     "output_type": "stream",
     "text": [
      "(600, 11)\n",
      "(600, 1)\n",
      "(292, 11)\n",
      "(292, 1)\n"
     ]
    }
   ],
   "source": [
    "print(train_x.shape)\n",
    "print(train_y.shape)\n",
    "print(val_x.shape)\n",
    "print(val_y.shape)"
   ]
  },
  {
   "cell_type": "markdown",
   "metadata": {},
   "source": [
    "### Build the Model"
   ]
  },
  {
   "cell_type": "code",
   "execution_count": 154,
   "metadata": {},
   "outputs": [
    {
     "name": "stdout",
     "output_type": "stream",
     "text": [
      "Model: \"sequential_4\"\n",
      "_________________________________________________________________\n",
      "Layer (type)                 Output Shape              Param #   \n",
      "=================================================================\n",
      "dense_8 (Dense)              (None, 6)                 72        \n",
      "_________________________________________________________________\n",
      "dense_9 (Dense)              (None, 6)                 42        \n",
      "_________________________________________________________________\n",
      "dense_10 (Dense)             (None, 1)                 7         \n",
      "=================================================================\n",
      "Total params: 121\n",
      "Trainable params: 121\n",
      "Non-trainable params: 0\n",
      "_________________________________________________________________\n"
     ]
    }
   ],
   "source": [
    "model = keras.Sequential(\n",
    "    [\n",
    "        layers.Dense(6, activation='sigmoid', input_shape=(11,)),\n",
    "        layers.Dense(6, activation='relu'),\n",
    "        layers.Dense(1, activation='sigmoid')\n",
    "    ]\n",
    ")\n",
    "optimizer = keras.optimizers.Adam(0.01)\n",
    "model.compile(\n",
    "    loss='binary_crossentropy',\n",
    "    optimizer=optimizer,\n",
    "    metrics=['acc']\n",
    ")\n",
    "model.summary()"
   ]
  },
  {
   "cell_type": "code",
   "execution_count": 155,
   "metadata": {},
   "outputs": [
    {
     "name": "stdout",
     "output_type": "stream",
     "text": [
      "Train on 600 samples\n",
      "Epoch 1/100\n",
      "600/600 [==============================] - 0s 498us/sample - loss: 0.6733 - acc: 0.5917\n",
      "Epoch 2/100\n",
      "600/600 [==============================] - 0s 222us/sample - loss: 0.6781 - acc: 0.6067\n",
      "Epoch 3/100\n",
      "600/600 [==============================] - 0s 244us/sample - loss: 0.6709 - acc: 0.6067\n",
      "Epoch 4/100\n",
      "600/600 [==============================] - 0s 248us/sample - loss: 0.6725 - acc: 0.5850\n",
      "Epoch 5/100\n",
      "600/600 [==============================] - 0s 249us/sample - loss: 0.6689 - acc: 0.6183\n",
      "Epoch 6/100\n",
      "600/600 [==============================] - 0s 245us/sample - loss: 0.6647 - acc: 0.6150\n",
      "Epoch 7/100\n",
      "600/600 [==============================] - 0s 226us/sample - loss: 0.6671 - acc: 0.6100\n",
      "Epoch 8/100\n",
      "600/600 [==============================] - 0s 250us/sample - loss: 0.6655 - acc: 0.6217\n",
      "Epoch 9/100\n",
      "600/600 [==============================] - 0s 244us/sample - loss: 0.6605 - acc: 0.6283\n",
      "Epoch 10/100\n",
      "600/600 [==============================] - 0s 311us/sample - loss: 0.6403 - acc: 0.6067\n",
      "Epoch 11/100\n",
      "600/600 [==============================] - 0s 330us/sample - loss: 0.6618 - acc: 0.6267\n",
      "Epoch 12/100\n",
      "600/600 [==============================] - 0s 284us/sample - loss: 0.6524 - acc: 0.6317\n",
      "Epoch 13/100\n",
      "600/600 [==============================] - 0s 238us/sample - loss: 0.6496 - acc: 0.6400\n",
      "Epoch 14/100\n",
      "600/600 [==============================] - 0s 239us/sample - loss: 0.6225 - acc: 0.6450\n",
      "Epoch 15/100\n",
      "600/600 [==============================] - 0s 213us/sample - loss: 0.6051 - acc: 0.6433\n",
      "Epoch 16/100\n",
      "600/600 [==============================] - 0s 246us/sample - loss: 0.5885 - acc: 0.6750\n",
      "Epoch 17/100\n",
      "600/600 [==============================] - 0s 225us/sample - loss: 0.5910 - acc: 0.7100\n",
      "Epoch 18/100\n",
      "600/600 [==============================] - 0s 247us/sample - loss: 0.5257 - acc: 0.8033\n",
      "Epoch 19/100\n",
      "600/600 [==============================] - 0s 234us/sample - loss: 0.6423 - acc: 0.6550s - loss: 0.6362 - acc: 0.662\n",
      "Epoch 20/100\n",
      "600/600 [==============================] - 0s 224us/sample - loss: 0.5510 - acc: 0.7650\n",
      "Epoch 21/100\n",
      "600/600 [==============================] - 0s 232us/sample - loss: 0.5248 - acc: 0.7650\n",
      "Epoch 22/100\n",
      "600/600 [==============================] - 0s 303us/sample - loss: 0.6590 - acc: 0.6417\n",
      "Epoch 23/100\n",
      "600/600 [==============================] - 0s 242us/sample - loss: 0.6694 - acc: 0.6417\n",
      "Epoch 24/100\n",
      "600/600 [==============================] - 0s 225us/sample - loss: 0.6503 - acc: 0.6333\n",
      "Epoch 25/100\n",
      "600/600 [==============================] - 0s 243us/sample - loss: 0.6145 - acc: 0.6933\n",
      "Epoch 26/100\n",
      "600/600 [==============================] - 0s 298us/sample - loss: 0.6300 - acc: 0.6467\n",
      "Epoch 27/100\n",
      "600/600 [==============================] - 0s 261us/sample - loss: 0.6254 - acc: 0.6233\n",
      "Epoch 28/100\n",
      "600/600 [==============================] - 0s 287us/sample - loss: 0.5498 - acc: 0.7033\n",
      "Epoch 29/100\n",
      "600/600 [==============================] - 0s 314us/sample - loss: 0.6082 - acc: 0.6917\n",
      "Epoch 30/100\n",
      "600/600 [==============================] - 0s 239us/sample - loss: 0.5575 - acc: 0.7267\n",
      "Epoch 31/100\n",
      "600/600 [==============================] - 0s 242us/sample - loss: 0.5148 - acc: 0.7817\n",
      "Epoch 32/100\n",
      "600/600 [==============================] - 0s 246us/sample - loss: 0.5446 - acc: 0.7633\n",
      "Epoch 33/100\n",
      "600/600 [==============================] - 0s 241us/sample - loss: 0.5368 - acc: 0.7700\n",
      "Epoch 34/100\n",
      "600/600 [==============================] - 0s 239us/sample - loss: 0.5321 - acc: 0.7400\n",
      "Epoch 35/100\n",
      "600/600 [==============================] - ETA: 0s - loss: 0.5014 - acc: 0.750 - 0s 264us/sample - loss: 0.4991 - acc: 0.7633\n",
      "Epoch 36/100\n",
      "600/600 [==============================] - 0s 220us/sample - loss: 0.5011 - acc: 0.7850\n",
      "Epoch 37/100\n",
      "600/600 [==============================] - 0s 342us/sample - loss: 0.4980 - acc: 0.7867\n",
      "Epoch 38/100\n",
      "600/600 [==============================] - 0s 310us/sample - loss: 0.4782 - acc: 0.8050\n",
      "Epoch 39/100\n",
      "600/600 [==============================] - 0s 273us/sample - loss: 0.4473 - acc: 0.8317\n",
      "Epoch 40/100\n",
      "600/600 [==============================] - 0s 245us/sample - loss: 0.4753 - acc: 0.8100\n",
      "Epoch 41/100\n",
      "600/600 [==============================] - 0s 239us/sample - loss: 0.4681 - acc: 0.8167\n",
      "Epoch 42/100\n",
      "600/600 [==============================] - 0s 239us/sample - loss: 0.4850 - acc: 0.8000s - loss: 0.4650 - acc: 0.80\n",
      "Epoch 43/100\n",
      "600/600 [==============================] - 0s 237us/sample - loss: 0.5097 - acc: 0.7833\n",
      "Epoch 44/100\n",
      "600/600 [==============================] - 0s 238us/sample - loss: 0.5420 - acc: 0.7600\n",
      "Epoch 45/100\n",
      "600/600 [==============================] - 0s 239us/sample - loss: 0.5040 - acc: 0.7900\n",
      "Epoch 46/100\n",
      "600/600 [==============================] - 0s 211us/sample - loss: 0.4883 - acc: 0.7983\n",
      "Epoch 47/100\n",
      "600/600 [==============================] - 0s 240us/sample - loss: 0.5045 - acc: 0.7817\n",
      "Epoch 48/100\n",
      "600/600 [==============================] - 0s 223us/sample - loss: 0.4827 - acc: 0.8100\n",
      "Epoch 49/100\n",
      "600/600 [==============================] - 0s 221us/sample - loss: 0.4886 - acc: 0.7900\n",
      "Epoch 50/100\n",
      "600/600 [==============================] - 0s 234us/sample - loss: 0.4640 - acc: 0.8150\n",
      "Epoch 51/100\n",
      "600/600 [==============================] - 0s 283us/sample - loss: 0.4889 - acc: 0.8017\n",
      "Epoch 52/100\n",
      "600/600 [==============================] - 0s 324us/sample - loss: 0.5064 - acc: 0.7900\n",
      "Epoch 53/100\n",
      "600/600 [==============================] - 0s 252us/sample - loss: 0.4726 - acc: 0.8133\n",
      "Epoch 54/100\n",
      "600/600 [==============================] - 0s 233us/sample - loss: 0.4794 - acc: 0.8017\n",
      "Epoch 55/100\n",
      "600/600 [==============================] - 0s 227us/sample - loss: 0.4856 - acc: 0.8000\n",
      "Epoch 56/100\n",
      "600/600 [==============================] - 0s 225us/sample - loss: 0.4977 - acc: 0.7867\n",
      "Epoch 57/100\n",
      "600/600 [==============================] - 0s 232us/sample - loss: 0.4785 - acc: 0.8000\n",
      "Epoch 58/100\n",
      "600/600 [==============================] - 0s 291us/sample - loss: 0.4644 - acc: 0.8167\n",
      "Epoch 59/100\n",
      "600/600 [==============================] - 0s 285us/sample - loss: 0.4611 - acc: 0.8217\n",
      "Epoch 60/100\n",
      "600/600 [==============================] - 0s 276us/sample - loss: 0.4840 - acc: 0.8000\n",
      "Epoch 61/100\n",
      "600/600 [==============================] - 0s 247us/sample - loss: 0.4967 - acc: 0.7917\n",
      "Epoch 62/100\n",
      "600/600 [==============================] - 0s 269us/sample - loss: 0.4920 - acc: 0.7917\n",
      "Epoch 63/100\n",
      "600/600 [==============================] - 0s 283us/sample - loss: 0.4676 - acc: 0.8167\n",
      "Epoch 64/100\n",
      "600/600 [==============================] - 0s 285us/sample - loss: 0.4930 - acc: 0.7933\n",
      "Epoch 65/100\n",
      "600/600 [==============================] - 0s 271us/sample - loss: 0.4655 - acc: 0.8150\n",
      "Epoch 66/100\n",
      "600/600 [==============================] - 0s 296us/sample - loss: 0.5323 - acc: 0.7667\n",
      "Epoch 67/100\n",
      "600/600 [==============================] - 0s 252us/sample - loss: 0.4883 - acc: 0.7983\n",
      "Epoch 68/100\n",
      "600/600 [==============================] - 0s 228us/sample - loss: 0.4683 - acc: 0.8133\n",
      "Epoch 69/100\n",
      "600/600 [==============================] - 0s 246us/sample - loss: 0.4837 - acc: 0.7967\n",
      "Epoch 70/100\n",
      "600/600 [==============================] - 0s 223us/sample - loss: 0.4656 - acc: 0.8133\n",
      "Epoch 71/100\n",
      "600/600 [==============================] - 0s 254us/sample - loss: 0.4794 - acc: 0.8017\n",
      "Epoch 72/100\n",
      "600/600 [==============================] - 0s 335us/sample - loss: 0.4616 - acc: 0.8183\n",
      "Epoch 73/100\n",
      "600/600 [==============================] - 0s 231us/sample - loss: 0.4848 - acc: 0.8000\n",
      "Epoch 74/100\n",
      "600/600 [==============================] - 0s 229us/sample - loss: 0.4908 - acc: 0.7950\n",
      "Epoch 75/100\n",
      "600/600 [==============================] - 0s 253us/sample - loss: 0.4833 - acc: 0.7950\n",
      "Epoch 76/100\n",
      "600/600 [==============================] - 0s 275us/sample - loss: 0.5346 - acc: 0.7600\n",
      "Epoch 77/100\n",
      "600/600 [==============================] - 0s 250us/sample - loss: 0.4912 - acc: 0.7950\n",
      "Epoch 78/100\n",
      "600/600 [==============================] - 0s 232us/sample - loss: 0.4730 - acc: 0.8117\n",
      "Epoch 79/100\n",
      "600/600 [==============================] - 0s 266us/sample - loss: 0.4682 - acc: 0.8183\n",
      "Epoch 80/100\n",
      "600/600 [==============================] - 0s 258us/sample - loss: 0.4657 - acc: 0.8133\n",
      "Epoch 81/100\n"
     ]
    },
    {
     "name": "stdout",
     "output_type": "stream",
     "text": [
      "600/600 [==============================] - 0s 252us/sample - loss: 0.4659 - acc: 0.8150\n",
      "Epoch 82/100\n",
      "600/600 [==============================] - 0s 286us/sample - loss: 0.4838 - acc: 0.8000\n",
      "Epoch 83/100\n",
      "600/600 [==============================] - 0s 302us/sample - loss: 0.4659 - acc: 0.8217\n",
      "Epoch 84/100\n",
      "600/600 [==============================] - 0s 227us/sample - loss: 0.5229 - acc: 0.7683\n",
      "Epoch 85/100\n",
      "600/600 [==============================] - 0s 252us/sample - loss: 0.4748 - acc: 0.8183\n",
      "Epoch 86/100\n",
      "600/600 [==============================] - 0s 227us/sample - loss: 0.4783 - acc: 0.8067\n",
      "Epoch 87/100\n",
      "600/600 [==============================] - 0s 218us/sample - loss: 0.4827 - acc: 0.7983\n",
      "Epoch 88/100\n",
      "600/600 [==============================] - 0s 248us/sample - loss: 0.4700 - acc: 0.8067\n",
      "Epoch 89/100\n",
      "600/600 [==============================] - 0s 242us/sample - loss: 0.4641 - acc: 0.8183\n",
      "Epoch 90/100\n",
      "600/600 [==============================] - 0s 223us/sample - loss: 0.4680 - acc: 0.8017\n",
      "Epoch 91/100\n",
      "600/600 [==============================] - 0s 223us/sample - loss: 0.4678 - acc: 0.8150\n",
      "Epoch 92/100\n",
      "600/600 [==============================] - 0s 228us/sample - loss: 0.4666 - acc: 0.8067\n",
      "Epoch 93/100\n",
      "600/600 [==============================] - 0s 220us/sample - loss: 0.4713 - acc: 0.8100\n",
      "Epoch 94/100\n",
      "600/600 [==============================] - 0s 218us/sample - loss: 0.4666 - acc: 0.8117\n",
      "Epoch 95/100\n",
      "600/600 [==============================] - 0s 247us/sample - loss: 0.4505 - acc: 0.8233\n",
      "Epoch 96/100\n",
      "600/600 [==============================] - 0s 235us/sample - loss: 0.4735 - acc: 0.8033\n",
      "Epoch 97/100\n",
      "600/600 [==============================] - 0s 273us/sample - loss: 0.4630 - acc: 0.8150\n",
      "Epoch 98/100\n",
      "600/600 [==============================] - 0s 224us/sample - loss: 0.4696 - acc: 0.8017\n",
      "Epoch 99/100\n",
      "600/600 [==============================] - 0s 229us/sample - loss: 0.4702 - acc: 0.8083\n",
      "Epoch 100/100\n",
      "600/600 [==============================] - 0s 252us/sample - loss: 0.4831 - acc: 0.7967\n"
     ]
    }
   ],
   "source": [
    "history = model.fit(train_x, train_y, batch_size=10, epochs=100)"
   ]
  },
  {
   "cell_type": "code",
   "execution_count": 156,
   "metadata": {},
   "outputs": [
    {
     "name": "stdout",
     "output_type": "stream",
     "text": [
      "292/292 [==============================] - 0s 331us/sample - loss: 0.5505 - acc: 0.7534\n"
     ]
    }
   ],
   "source": [
    "ret = model.evaluate(val_x, val_y)"
   ]
  },
  {
   "cell_type": "code",
   "execution_count": 157,
   "metadata": {},
   "outputs": [
    {
     "data": {
      "text/plain": [
       "<matplotlib.legend.Legend at 0x7f7e06225710>"
      ]
     },
     "execution_count": 157,
     "metadata": {},
     "output_type": "execute_result"
    },
    {
     "data": {
      "image/png": "[encoded data removed]",
      "text/plain": [
       "<Figure size 432x288 with 1 Axes>"
      ]
     },
     "metadata": {
      "needs_background": "light"
     },
     "output_type": "display_data"
    }
   ],
   "source": [
    "fig, ax = plt.subplots()\n",
    "ax.plot(history.history['acc'], label=\"Accuracy\")\n",
    "ax.plot(history.history['loss'], label=\"LOSS\")\n",
    "ax.legend()"
   ]
  },
  {
   "cell_type": "markdown",
   "metadata": {},
   "source": [
    "## Demo 3 - Multi-Class Classification"
   ]
  },
  {
   "cell_type": "markdown",
   "metadata": {},
   "source": [
    "### Load Data - Iris\n",
    "\n",
    "The iris dataset can be downloaded from http://archive.ics.uci.edu/ml/datasets/Iris"
   ]
  },
  {
   "cell_type": "code",
   "execution_count": 158,
   "metadata": {},
   "outputs": [
    {
     "data": {
      "text/html": [
       "<div>\n",
       "<style scoped>\n",
       "    .dataframe tbody tr th:only-of-type {\n",
       "        vertical-align: middle;\n",
       "    }\n",
       "\n",
       "    .dataframe tbody tr th {\n",
       "        vertical-align: top;\n",
       "    }\n",
       "\n",
       "    .dataframe thead th {\n",
       "        text-align: right;\n",
       "    }\n",
       "</style>\n",
       "<table border=\"1\" class=\"dataframe\">\n",
       "  <thead>\n",
       "    <tr style=\"text-align: right;\">\n",
       "      <th></th>\n",
       "      <th>0</th>\n",
       "      <th>1</th>\n",
       "      <th>2</th>\n",
       "      <th>3</th>\n",
       "      <th>4</th>\n",
       "    </tr>\n",
       "  </thead>\n",
       "  <tbody>\n",
       "    <tr>\n",
       "      <th>0</th>\n",
       "      <td>5.1</td>\n",
       "      <td>3.5</td>\n",
       "      <td>1.4</td>\n",
       "      <td>0.2</td>\n",
       "      <td>Iris-setosa</td>\n",
       "    </tr>\n",
       "    <tr>\n",
       "      <th>1</th>\n",
       "      <td>4.9</td>\n",
       "      <td>3.0</td>\n",
       "      <td>1.4</td>\n",
       "      <td>0.2</td>\n",
       "      <td>Iris-setosa</td>\n",
       "    </tr>\n",
       "    <tr>\n",
       "      <th>2</th>\n",
       "      <td>4.7</td>\n",
       "      <td>3.2</td>\n",
       "      <td>1.3</td>\n",
       "      <td>0.2</td>\n",
       "      <td>Iris-setosa</td>\n",
       "    </tr>\n",
       "    <tr>\n",
       "      <th>3</th>\n",
       "      <td>4.6</td>\n",
       "      <td>3.1</td>\n",
       "      <td>1.5</td>\n",
       "      <td>0.2</td>\n",
       "      <td>Iris-setosa</td>\n",
       "    </tr>\n",
       "    <tr>\n",
       "      <th>4</th>\n",
       "      <td>5.0</td>\n",
       "      <td>3.6</td>\n",
       "      <td>1.4</td>\n",
       "      <td>0.2</td>\n",
       "      <td>Iris-setosa</td>\n",
       "    </tr>\n",
       "  </tbody>\n",
       "</table>\n",
       "</div>"
      ],
      "text/plain": [
       "     0    1    2    3            4\n",
       "0  5.1  3.5  1.4  0.2  Iris-setosa\n",
       "1  4.9  3.0  1.4  0.2  Iris-setosa\n",
       "2  4.7  3.2  1.3  0.2  Iris-setosa\n",
       "3  4.6  3.1  1.5  0.2  Iris-setosa\n",
       "4  5.0  3.6  1.4  0.2  Iris-setosa"
      ]
     },
     "execution_count": 158,
     "metadata": {},
     "output_type": "execute_result"
    }
   ],
   "source": [
    "import pandas as pd\n",
    "data = pd.read_csv(\"data/iris.csv\", header=None)\n",
    "data.head()"
   ]
  },
  {
   "cell_type": "code",
   "execution_count": 159,
   "metadata": {},
   "outputs": [],
   "source": [
    "data.columns = [\"sepal_l\", \"sepal_w\", \"petal_l\", \"petal_w\", \"class\"]"
   ]
  },
  {
   "cell_type": "code",
   "execution_count": 160,
   "metadata": {},
   "outputs": [
    {
     "data": {
      "text/html": [
       "<div>\n",
       "<style scoped>\n",
       "    .dataframe tbody tr th:only-of-type {\n",
       "        vertical-align: middle;\n",
       "    }\n",
       "\n",
       "    .dataframe tbody tr th {\n",
       "        vertical-align: top;\n",
       "    }\n",
       "\n",
       "    .dataframe thead th {\n",
       "        text-align: right;\n",
       "    }\n",
       "</style>\n",
       "<table border=\"1\" class=\"dataframe\">\n",
       "  <thead>\n",
       "    <tr style=\"text-align: right;\">\n",
       "      <th></th>\n",
       "      <th>sepal_l</th>\n",
       "      <th>sepal_w</th>\n",
       "      <th>petal_l</th>\n",
       "      <th>petal_w</th>\n",
       "      <th>class</th>\n",
       "    </tr>\n",
       "  </thead>\n",
       "  <tbody>\n",
       "    <tr>\n",
       "      <th>0</th>\n",
       "      <td>5.1</td>\n",
       "      <td>3.5</td>\n",
       "      <td>1.4</td>\n",
       "      <td>0.2</td>\n",
       "      <td>Iris-setosa</td>\n",
       "    </tr>\n",
       "    <tr>\n",
       "      <th>1</th>\n",
       "      <td>4.9</td>\n",
       "      <td>3.0</td>\n",
       "      <td>1.4</td>\n",
       "      <td>0.2</td>\n",
       "      <td>Iris-setosa</td>\n",
       "    </tr>\n",
       "    <tr>\n",
       "      <th>2</th>\n",
       "      <td>4.7</td>\n",
       "      <td>3.2</td>\n",
       "      <td>1.3</td>\n",
       "      <td>0.2</td>\n",
       "      <td>Iris-setosa</td>\n",
       "    </tr>\n",
       "    <tr>\n",
       "      <th>3</th>\n",
       "      <td>4.6</td>\n",
       "      <td>3.1</td>\n",
       "      <td>1.5</td>\n",
       "      <td>0.2</td>\n",
       "      <td>Iris-setosa</td>\n",
       "    </tr>\n",
       "    <tr>\n",
       "      <th>4</th>\n",
       "      <td>5.0</td>\n",
       "      <td>3.6</td>\n",
       "      <td>1.4</td>\n",
       "      <td>0.2</td>\n",
       "      <td>Iris-setosa</td>\n",
       "    </tr>\n",
       "  </tbody>\n",
       "</table>\n",
       "</div>"
      ],
      "text/plain": [
       "   sepal_l  sepal_w  petal_l  petal_w        class\n",
       "0      5.1      3.5      1.4      0.2  Iris-setosa\n",
       "1      4.9      3.0      1.4      0.2  Iris-setosa\n",
       "2      4.7      3.2      1.3      0.2  Iris-setosa\n",
       "3      4.6      3.1      1.5      0.2  Iris-setosa\n",
       "4      5.0      3.6      1.4      0.2  Iris-setosa"
      ]
     },
     "execution_count": 160,
     "metadata": {},
     "output_type": "execute_result"
    }
   ],
   "source": [
    "data.head()"
   ]
  },
  {
   "cell_type": "code",
   "execution_count": 161,
   "metadata": {},
   "outputs": [],
   "source": [
    "data = data.sample(frac=1)"
   ]
  },
  {
   "cell_type": "code",
   "execution_count": 162,
   "metadata": {},
   "outputs": [
    {
     "data": {
      "text/html": [
       "<div>\n",
       "<style scoped>\n",
       "    .dataframe tbody tr th:only-of-type {\n",
       "        vertical-align: middle;\n",
       "    }\n",
       "\n",
       "    .dataframe tbody tr th {\n",
       "        vertical-align: top;\n",
       "    }\n",
       "\n",
       "    .dataframe thead th {\n",
       "        text-align: right;\n",
       "    }\n",
       "</style>\n",
       "<table border=\"1\" class=\"dataframe\">\n",
       "  <thead>\n",
       "    <tr style=\"text-align: right;\">\n",
       "      <th></th>\n",
       "      <th>sepal_l</th>\n",
       "      <th>sepal_w</th>\n",
       "      <th>petal_l</th>\n",
       "      <th>petal_w</th>\n",
       "      <th>class</th>\n",
       "    </tr>\n",
       "  </thead>\n",
       "  <tbody>\n",
       "    <tr>\n",
       "      <th>46</th>\n",
       "      <td>5.1</td>\n",
       "      <td>3.8</td>\n",
       "      <td>1.6</td>\n",
       "      <td>0.2</td>\n",
       "      <td>Iris-setosa</td>\n",
       "    </tr>\n",
       "    <tr>\n",
       "      <th>45</th>\n",
       "      <td>4.8</td>\n",
       "      <td>3.0</td>\n",
       "      <td>1.4</td>\n",
       "      <td>0.3</td>\n",
       "      <td>Iris-setosa</td>\n",
       "    </tr>\n",
       "    <tr>\n",
       "      <th>87</th>\n",
       "      <td>6.3</td>\n",
       "      <td>2.3</td>\n",
       "      <td>4.4</td>\n",
       "      <td>1.3</td>\n",
       "      <td>Iris-versicolor</td>\n",
       "    </tr>\n",
       "    <tr>\n",
       "      <th>127</th>\n",
       "      <td>6.1</td>\n",
       "      <td>3.0</td>\n",
       "      <td>4.9</td>\n",
       "      <td>1.8</td>\n",
       "      <td>Iris-virginica</td>\n",
       "    </tr>\n",
       "    <tr>\n",
       "      <th>42</th>\n",
       "      <td>4.4</td>\n",
       "      <td>3.2</td>\n",
       "      <td>1.3</td>\n",
       "      <td>0.2</td>\n",
       "      <td>Iris-setosa</td>\n",
       "    </tr>\n",
       "  </tbody>\n",
       "</table>\n",
       "</div>"
      ],
      "text/plain": [
       "     sepal_l  sepal_w  petal_l  petal_w            class\n",
       "46       5.1      3.8      1.6      0.2      Iris-setosa\n",
       "45       4.8      3.0      1.4      0.3      Iris-setosa\n",
       "87       6.3      2.3      4.4      1.3  Iris-versicolor\n",
       "127      6.1      3.0      4.9      1.8   Iris-virginica\n",
       "42       4.4      3.2      1.3      0.2      Iris-setosa"
      ]
     },
     "execution_count": 162,
     "metadata": {},
     "output_type": "execute_result"
    }
   ],
   "source": [
    "data.head()"
   ]
  },
  {
   "cell_type": "markdown",
   "metadata": {},
   "source": [
    "### Label Encode"
   ]
  },
  {
   "cell_type": "code",
   "execution_count": 163,
   "metadata": {},
   "outputs": [
    {
     "data": {
      "text/plain": [
       "Iris-versicolor    50\n",
       "Iris-virginica     50\n",
       "Iris-setosa        50\n",
       "Name: class, dtype: int64"
      ]
     },
     "execution_count": 163,
     "metadata": {},
     "output_type": "execute_result"
    }
   ],
   "source": [
    "data[\"class\"].value_counts()"
   ]
  },
  {
   "cell_type": "code",
   "execution_count": 164,
   "metadata": {},
   "outputs": [],
   "source": [
    "data[\"versicolor\"] = data[\"class\"].apply(lambda x: 1 if x == \"Iris-versicolor\" else 0)\n",
    "data[\"virginica\"] = data[\"class\"].apply(lambda x: 1 if x == \"Iris-virginica\" else 0)\n",
    "data[\"setosa\"] = data[\"class\"].apply(lambda x: 1 if x == \"Iris-setosa\" else 0)"
   ]
  },
  {
   "cell_type": "code",
   "execution_count": 165,
   "metadata": {},
   "outputs": [],
   "source": [
    "data.drop([\"class\"],axis=1, inplace=True)"
   ]
  },
  {
   "cell_type": "code",
   "execution_count": 166,
   "metadata": {},
   "outputs": [
    {
     "data": {
      "text/html": [
       "<div>\n",
       "<style scoped>\n",
       "    .dataframe tbody tr th:only-of-type {\n",
       "        vertical-align: middle;\n",
       "    }\n",
       "\n",
       "    .dataframe tbody tr th {\n",
       "        vertical-align: top;\n",
       "    }\n",
       "\n",
       "    .dataframe thead th {\n",
       "        text-align: right;\n",
       "    }\n",
       "</style>\n",
       "<table border=\"1\" class=\"dataframe\">\n",
       "  <thead>\n",
       "    <tr style=\"text-align: right;\">\n",
       "      <th></th>\n",
       "      <th>sepal_l</th>\n",
       "      <th>sepal_w</th>\n",
       "      <th>petal_l</th>\n",
       "      <th>petal_w</th>\n",
       "      <th>versicolor</th>\n",
       "      <th>virginica</th>\n",
       "      <th>setosa</th>\n",
       "    </tr>\n",
       "  </thead>\n",
       "  <tbody>\n",
       "    <tr>\n",
       "      <th>46</th>\n",
       "      <td>5.1</td>\n",
       "      <td>3.8</td>\n",
       "      <td>1.6</td>\n",
       "      <td>0.2</td>\n",
       "      <td>0</td>\n",
       "      <td>0</td>\n",
       "      <td>1</td>\n",
       "    </tr>\n",
       "    <tr>\n",
       "      <th>45</th>\n",
       "      <td>4.8</td>\n",
       "      <td>3.0</td>\n",
       "      <td>1.4</td>\n",
       "      <td>0.3</td>\n",
       "      <td>0</td>\n",
       "      <td>0</td>\n",
       "      <td>1</td>\n",
       "    </tr>\n",
       "    <tr>\n",
       "      <th>87</th>\n",
       "      <td>6.3</td>\n",
       "      <td>2.3</td>\n",
       "      <td>4.4</td>\n",
       "      <td>1.3</td>\n",
       "      <td>1</td>\n",
       "      <td>0</td>\n",
       "      <td>0</td>\n",
       "    </tr>\n",
       "    <tr>\n",
       "      <th>127</th>\n",
       "      <td>6.1</td>\n",
       "      <td>3.0</td>\n",
       "      <td>4.9</td>\n",
       "      <td>1.8</td>\n",
       "      <td>0</td>\n",
       "      <td>1</td>\n",
       "      <td>0</td>\n",
       "    </tr>\n",
       "    <tr>\n",
       "      <th>42</th>\n",
       "      <td>4.4</td>\n",
       "      <td>3.2</td>\n",
       "      <td>1.3</td>\n",
       "      <td>0.2</td>\n",
       "      <td>0</td>\n",
       "      <td>0</td>\n",
       "      <td>1</td>\n",
       "    </tr>\n",
       "  </tbody>\n",
       "</table>\n",
       "</div>"
      ],
      "text/plain": [
       "     sepal_l  sepal_w  petal_l  petal_w  versicolor  virginica  setosa\n",
       "46       5.1      3.8      1.6      0.2           0          0       1\n",
       "45       4.8      3.0      1.4      0.3           0          0       1\n",
       "87       6.3      2.3      4.4      1.3           1          0       0\n",
       "127      6.1      3.0      4.9      1.8           0          1       0\n",
       "42       4.4      3.2      1.3      0.2           0          0       1"
      ]
     },
     "execution_count": 166,
     "metadata": {},
     "output_type": "execute_result"
    }
   ],
   "source": [
    "data.head()"
   ]
  },
  {
   "cell_type": "markdown",
   "metadata": {},
   "source": [
    "### Split Data"
   ]
  },
  {
   "cell_type": "code",
   "execution_count": 167,
   "metadata": {},
   "outputs": [
    {
     "data": {
      "text/plain": [
       "150"
      ]
     },
     "execution_count": 167,
     "metadata": {},
     "output_type": "execute_result"
    }
   ],
   "source": [
    "len(data)"
   ]
  },
  {
   "cell_type": "code",
   "execution_count": 168,
   "metadata": {},
   "outputs": [],
   "source": [
    "train = data[0:120]\n",
    "val = data[120:]"
   ]
  },
  {
   "cell_type": "code",
   "execution_count": 169,
   "metadata": {},
   "outputs": [],
   "source": [
    "train_x, train_y = train.iloc[:,0:4], train.iloc[:,4:]\n",
    "val_x, val_y = val.iloc[:,0:4], val.iloc[:,4:]"
   ]
  },
  {
   "cell_type": "code",
   "execution_count": 170,
   "metadata": {},
   "outputs": [
    {
     "data": {
      "text/html": [
       "<div>\n",
       "<style scoped>\n",
       "    .dataframe tbody tr th:only-of-type {\n",
       "        vertical-align: middle;\n",
       "    }\n",
       "\n",
       "    .dataframe tbody tr th {\n",
       "        vertical-align: top;\n",
       "    }\n",
       "\n",
       "    .dataframe thead th {\n",
       "        text-align: right;\n",
       "    }\n",
       "</style>\n",
       "<table border=\"1\" class=\"dataframe\">\n",
       "  <thead>\n",
       "    <tr style=\"text-align: right;\">\n",
       "      <th></th>\n",
       "      <th>sepal_l</th>\n",
       "      <th>sepal_w</th>\n",
       "      <th>petal_l</th>\n",
       "      <th>petal_w</th>\n",
       "    </tr>\n",
       "  </thead>\n",
       "  <tbody>\n",
       "    <tr>\n",
       "      <th>46</th>\n",
       "      <td>5.1</td>\n",
       "      <td>3.8</td>\n",
       "      <td>1.6</td>\n",
       "      <td>0.2</td>\n",
       "    </tr>\n",
       "    <tr>\n",
       "      <th>45</th>\n",
       "      <td>4.8</td>\n",
       "      <td>3.0</td>\n",
       "      <td>1.4</td>\n",
       "      <td>0.3</td>\n",
       "    </tr>\n",
       "    <tr>\n",
       "      <th>87</th>\n",
       "      <td>6.3</td>\n",
       "      <td>2.3</td>\n",
       "      <td>4.4</td>\n",
       "      <td>1.3</td>\n",
       "    </tr>\n",
       "    <tr>\n",
       "      <th>127</th>\n",
       "      <td>6.1</td>\n",
       "      <td>3.0</td>\n",
       "      <td>4.9</td>\n",
       "      <td>1.8</td>\n",
       "    </tr>\n",
       "    <tr>\n",
       "      <th>42</th>\n",
       "      <td>4.4</td>\n",
       "      <td>3.2</td>\n",
       "      <td>1.3</td>\n",
       "      <td>0.2</td>\n",
       "    </tr>\n",
       "  </tbody>\n",
       "</table>\n",
       "</div>"
      ],
      "text/plain": [
       "     sepal_l  sepal_w  petal_l  petal_w\n",
       "46       5.1      3.8      1.6      0.2\n",
       "45       4.8      3.0      1.4      0.3\n",
       "87       6.3      2.3      4.4      1.3\n",
       "127      6.1      3.0      4.9      1.8\n",
       "42       4.4      3.2      1.3      0.2"
      ]
     },
     "execution_count": 170,
     "metadata": {},
     "output_type": "execute_result"
    }
   ],
   "source": [
    "train_x.head()"
   ]
  },
  {
   "cell_type": "code",
   "execution_count": 171,
   "metadata": {},
   "outputs": [
    {
     "data": {
      "text/html": [
       "<div>\n",
       "<style scoped>\n",
       "    .dataframe tbody tr th:only-of-type {\n",
       "        vertical-align: middle;\n",
       "    }\n",
       "\n",
       "    .dataframe tbody tr th {\n",
       "        vertical-align: top;\n",
       "    }\n",
       "\n",
       "    .dataframe thead th {\n",
       "        text-align: right;\n",
       "    }\n",
       "</style>\n",
       "<table border=\"1\" class=\"dataframe\">\n",
       "  <thead>\n",
       "    <tr style=\"text-align: right;\">\n",
       "      <th></th>\n",
       "      <th>versicolor</th>\n",
       "      <th>virginica</th>\n",
       "      <th>setosa</th>\n",
       "    </tr>\n",
       "  </thead>\n",
       "  <tbody>\n",
       "    <tr>\n",
       "      <th>46</th>\n",
       "      <td>0</td>\n",
       "      <td>0</td>\n",
       "      <td>1</td>\n",
       "    </tr>\n",
       "    <tr>\n",
       "      <th>45</th>\n",
       "      <td>0</td>\n",
       "      <td>0</td>\n",
       "      <td>1</td>\n",
       "    </tr>\n",
       "    <tr>\n",
       "      <th>87</th>\n",
       "      <td>1</td>\n",
       "      <td>0</td>\n",
       "      <td>0</td>\n",
       "    </tr>\n",
       "    <tr>\n",
       "      <th>127</th>\n",
       "      <td>0</td>\n",
       "      <td>1</td>\n",
       "      <td>0</td>\n",
       "    </tr>\n",
       "    <tr>\n",
       "      <th>42</th>\n",
       "      <td>0</td>\n",
       "      <td>0</td>\n",
       "      <td>1</td>\n",
       "    </tr>\n",
       "  </tbody>\n",
       "</table>\n",
       "</div>"
      ],
      "text/plain": [
       "     versicolor  virginica  setosa\n",
       "46            0          0       1\n",
       "45            0          0       1\n",
       "87            1          0       0\n",
       "127           0          1       0\n",
       "42            0          0       1"
      ]
     },
     "execution_count": 171,
     "metadata": {},
     "output_type": "execute_result"
    }
   ],
   "source": [
    "train_y.head()"
   ]
  },
  {
   "cell_type": "markdown",
   "metadata": {},
   "source": [
    "### Build the Model"
   ]
  },
  {
   "cell_type": "code",
   "execution_count": 172,
   "metadata": {
    "scrolled": true
   },
   "outputs": [
    {
     "name": "stdout",
     "output_type": "stream",
     "text": [
      "Model: \"sequential_5\"\n",
      "_________________________________________________________________\n",
      "Layer (type)                 Output Shape              Param #   \n",
      "=================================================================\n",
      "dense_11 (Dense)             (None, 8)                 40        \n",
      "_________________________________________________________________\n",
      "dense_12 (Dense)             (None, 3)                 27        \n",
      "=================================================================\n",
      "Total params: 67\n",
      "Trainable params: 67\n",
      "Non-trainable params: 0\n",
      "_________________________________________________________________\n"
     ]
    }
   ],
   "source": [
    "model = keras.Sequential(\n",
    "    [\n",
    "        layers.Dense(8, activation='sigmoid', input_shape=(4,)),\n",
    "        layers.Dense(3, activation='softmax')\n",
    "    ]\n",
    ")\n",
    "optimizer = keras.optimizers.Adam(0.01)\n",
    "model.compile(\n",
    "    loss='categorical_crossentropy',\n",
    "    optimizer=optimizer,\n",
    "    metrics=['acc']\n",
    ")\n",
    "model.summary()"
   ]
  },
  {
   "cell_type": "code",
   "execution_count": 173,
   "metadata": {},
   "outputs": [
    {
     "name": "stdout",
     "output_type": "stream",
     "text": [
      "Train on 120 samples\n",
      "Epoch 1/100\n",
      "120/120 [==============================] - 0s 1ms/sample - loss: 1.0759 - acc: 0.3500\n",
      "Epoch 2/100\n",
      "120/120 [==============================] - 0s 292us/sample - loss: 0.9887 - acc: 0.7333\n",
      "Epoch 3/100\n",
      "120/120 [==============================] - 0s 267us/sample - loss: 0.8896 - acc: 0.8250\n",
      "Epoch 4/100\n",
      "120/120 [==============================] - 0s 357us/sample - loss: 0.7869 - acc: 0.7583\n",
      "Epoch 5/100\n",
      "120/120 [==============================] - 0s 295us/sample - loss: 0.6907 - acc: 0.8083\n",
      "Epoch 6/100\n",
      "120/120 [==============================] - 0s 276us/sample - loss: 0.5991 - acc: 0.8083\n",
      "Epoch 7/100\n",
      "120/120 [==============================] - 0s 277us/sample - loss: 0.5355 - acc: 0.9167\n",
      "Epoch 8/100\n",
      "120/120 [==============================] - ETA: 0s - loss: 0.2911 - acc: 1.000 - 0s 230us/sample - loss: 0.4766 - acc: 0.9750\n",
      "Epoch 9/100\n",
      "120/120 [==============================] - 0s 306us/sample - loss: 0.4442 - acc: 0.9750\n",
      "Epoch 10/100\n",
      "120/120 [==============================] - 0s 385us/sample - loss: 0.4182 - acc: 0.9833\n",
      "Epoch 11/100\n",
      "120/120 [==============================] - 0s 332us/sample - loss: 0.3964 - acc: 0.9500\n",
      "Epoch 12/100\n",
      "120/120 [==============================] - 0s 282us/sample - loss: 0.3778 - acc: 0.9750\n",
      "Epoch 13/100\n",
      "120/120 [==============================] - 0s 267us/sample - loss: 0.3505 - acc: 0.9833\n",
      "Epoch 14/100\n",
      "120/120 [==============================] - 0s 271us/sample - loss: 0.3320 - acc: 0.9833\n",
      "Epoch 15/100\n",
      "120/120 [==============================] - 0s 280us/sample - loss: 0.3143 - acc: 0.9583\n",
      "Epoch 16/100\n",
      "120/120 [==============================] - 0s 280us/sample - loss: 0.2976 - acc: 0.9833\n",
      "Epoch 17/100\n",
      "120/120 [==============================] - 0s 314us/sample - loss: 0.2827 - acc: 0.9833\n",
      "Epoch 18/100\n",
      "120/120 [==============================] - 0s 316us/sample - loss: 0.2785 - acc: 0.9417\n",
      "Epoch 19/100\n",
      "120/120 [==============================] - 0s 379us/sample - loss: 0.2537 - acc: 0.9750\n",
      "Epoch 20/100\n",
      "120/120 [==============================] - 0s 289us/sample - loss: 0.2379 - acc: 0.9667\n",
      "Epoch 21/100\n",
      "120/120 [==============================] - 0s 279us/sample - loss: 0.2233 - acc: 0.9750\n",
      "Epoch 22/100\n",
      "120/120 [==============================] - 0s 320us/sample - loss: 0.2125 - acc: 0.9833\n",
      "Epoch 23/100\n",
      "120/120 [==============================] - 0s 288us/sample - loss: 0.2042 - acc: 0.9750\n",
      "Epoch 24/100\n",
      "120/120 [==============================] - 0s 277us/sample - loss: 0.1995 - acc: 0.9750\n",
      "Epoch 25/100\n",
      "120/120 [==============================] - 0s 332us/sample - loss: 0.1850 - acc: 0.9750\n",
      "Epoch 26/100\n",
      "120/120 [==============================] - 0s 313us/sample - loss: 0.1796 - acc: 0.9667\n",
      "Epoch 27/100\n",
      "120/120 [==============================] - 0s 281us/sample - loss: 0.1801 - acc: 0.9500\n",
      "Epoch 28/100\n",
      "120/120 [==============================] - 0s 310us/sample - loss: 0.1929 - acc: 0.9500\n",
      "Epoch 29/100\n",
      "120/120 [==============================] - 0s 311us/sample - loss: 0.1686 - acc: 0.9667\n",
      "Epoch 30/100\n",
      "120/120 [==============================] - 0s 291us/sample - loss: 0.1609 - acc: 0.9750\n",
      "Epoch 31/100\n",
      "120/120 [==============================] - 0s 292us/sample - loss: 0.1471 - acc: 0.9667\n",
      "Epoch 32/100\n",
      "120/120 [==============================] - 0s 299us/sample - loss: 0.1454 - acc: 0.9667\n",
      "Epoch 33/100\n",
      "120/120 [==============================] - 0s 317us/sample - loss: 0.1365 - acc: 0.9833\n",
      "Epoch 34/100\n",
      "120/120 [==============================] - 0s 268us/sample - loss: 0.1304 - acc: 0.9833\n",
      "Epoch 35/100\n",
      "120/120 [==============================] - 0s 302us/sample - loss: 0.1238 - acc: 0.9833\n",
      "Epoch 36/100\n",
      "120/120 [==============================] - 0s 274us/sample - loss: 0.1241 - acc: 0.9833\n",
      "Epoch 37/100\n",
      "120/120 [==============================] - 0s 294us/sample - loss: 0.1299 - acc: 0.9583\n",
      "Epoch 38/100\n",
      "120/120 [==============================] - 0s 312us/sample - loss: 0.1283 - acc: 0.9583\n",
      "Epoch 39/100\n",
      "120/120 [==============================] - 0s 270us/sample - loss: 0.1134 - acc: 0.9750\n",
      "Epoch 40/100\n",
      "120/120 [==============================] - 0s 299us/sample - loss: 0.1101 - acc: 0.9750\n",
      "Epoch 41/100\n",
      "120/120 [==============================] - 0s 318us/sample - loss: 0.1139 - acc: 0.9667\n",
      "Epoch 42/100\n",
      "120/120 [==============================] - 0s 311us/sample - loss: 0.1112 - acc: 0.9750\n",
      "Epoch 43/100\n",
      "120/120 [==============================] - 0s 266us/sample - loss: 0.1054 - acc: 0.9750\n",
      "Epoch 44/100\n",
      "120/120 [==============================] - 0s 317us/sample - loss: 0.1028 - acc: 0.9833\n",
      "Epoch 45/100\n",
      "120/120 [==============================] - 0s 262us/sample - loss: 0.0999 - acc: 0.9667\n",
      "Epoch 46/100\n",
      "120/120 [==============================] - 0s 315us/sample - loss: 0.1149 - acc: 0.9500\n",
      "Epoch 47/100\n",
      "120/120 [==============================] - 0s 297us/sample - loss: 0.0988 - acc: 0.9833\n",
      "Epoch 48/100\n",
      "120/120 [==============================] - 0s 282us/sample - loss: 0.1039 - acc: 0.9750\n",
      "Epoch 49/100\n",
      "120/120 [==============================] - 0s 258us/sample - loss: 0.0905 - acc: 0.9833\n",
      "Epoch 50/100\n",
      "120/120 [==============================] - 0s 316us/sample - loss: 0.0945 - acc: 0.9833\n",
      "Epoch 51/100\n",
      "120/120 [==============================] - 0s 291us/sample - loss: 0.0889 - acc: 0.9833\n",
      "Epoch 52/100\n",
      "120/120 [==============================] - ETA: 0s - loss: 0.1066 - acc: 1.000 - 0s 308us/sample - loss: 0.0907 - acc: 0.9750\n",
      "Epoch 53/100\n",
      "120/120 [==============================] - 0s 282us/sample - loss: 0.0883 - acc: 0.9833\n",
      "Epoch 54/100\n",
      "120/120 [==============================] - 0s 249us/sample - loss: 0.0947 - acc: 0.9667\n",
      "Epoch 55/100\n",
      "120/120 [==============================] - 0s 308us/sample - loss: 0.0943 - acc: 0.9667\n",
      "Epoch 56/100\n",
      "120/120 [==============================] - ETA: 0s - loss: 0.0289 - acc: 1.000 - 0s 313us/sample - loss: 0.0921 - acc: 0.9750\n",
      "Epoch 57/100\n",
      "120/120 [==============================] - 0s 348us/sample - loss: 0.0819 - acc: 0.9917\n",
      "Epoch 58/100\n",
      "120/120 [==============================] - 0s 284us/sample - loss: 0.0845 - acc: 0.9750\n",
      "Epoch 59/100\n",
      "120/120 [==============================] - 0s 261us/sample - loss: 0.0810 - acc: 0.9917\n",
      "Epoch 60/100\n",
      "120/120 [==============================] - ETA: 0s - loss: 0.0386 - acc: 1.000 - 0s 276us/sample - loss: 0.0801 - acc: 0.9833\n",
      "Epoch 61/100\n",
      "120/120 [==============================] - 0s 267us/sample - loss: 0.0814 - acc: 0.9917\n",
      "Epoch 62/100\n",
      "120/120 [==============================] - 0s 278us/sample - loss: 0.0789 - acc: 0.9833\n",
      "Epoch 63/100\n",
      "120/120 [==============================] - 0s 279us/sample - loss: 0.0785 - acc: 0.9833\n",
      "Epoch 64/100\n",
      "120/120 [==============================] - 0s 257us/sample - loss: 0.0833 - acc: 0.9667\n",
      "Epoch 65/100\n",
      "120/120 [==============================] - 0s 266us/sample - loss: 0.0774 - acc: 0.9750\n",
      "Epoch 66/100\n",
      "120/120 [==============================] - 0s 293us/sample - loss: 0.0763 - acc: 0.9750\n",
      "Epoch 67/100\n",
      "120/120 [==============================] - 0s 299us/sample - loss: 0.0783 - acc: 0.9750\n",
      "Epoch 68/100\n",
      "120/120 [==============================] - 0s 295us/sample - loss: 0.0755 - acc: 0.9833\n",
      "Epoch 69/100\n",
      "120/120 [==============================] - 0s 278us/sample - loss: 0.0889 - acc: 0.9667\n",
      "Epoch 70/100\n",
      "120/120 [==============================] - 0s 284us/sample - loss: 0.0903 - acc: 0.9667\n",
      "Epoch 71/100\n",
      "120/120 [==============================] - 0s 264us/sample - loss: 0.0836 - acc: 0.9583\n",
      "Epoch 72/100\n",
      "120/120 [==============================] - 0s 262us/sample - loss: 0.0832 - acc: 0.9583\n",
      "Epoch 73/100\n",
      "120/120 [==============================] - 0s 281us/sample - loss: 0.0739 - acc: 0.9750\n",
      "Epoch 74/100\n",
      "120/120 [==============================] - 0s 316us/sample - loss: 0.0717 - acc: 0.9917\n",
      "Epoch 75/100\n",
      "120/120 [==============================] - 0s 287us/sample - loss: 0.0750 - acc: 0.9750\n",
      "Epoch 76/100\n",
      "120/120 [==============================] - 0s 294us/sample - loss: 0.0736 - acc: 0.9750\n",
      "Epoch 77/100\n",
      "120/120 [==============================] - 0s 259us/sample - loss: 0.0733 - acc: 0.9833\n",
      "Epoch 78/100\n",
      "120/120 [==============================] - 0s 278us/sample - loss: 0.0971 - acc: 0.9667\n",
      "Epoch 79/100\n",
      "120/120 [==============================] - 0s 302us/sample - loss: 0.0913 - acc: 0.9583\n",
      "Epoch 80/100\n"
     ]
    },
    {
     "name": "stdout",
     "output_type": "stream",
     "text": [
      "120/120 [==============================] - 0s 293us/sample - loss: 0.0775 - acc: 0.9667\n",
      "Epoch 81/100\n",
      "120/120 [==============================] - 0s 309us/sample - loss: 0.0893 - acc: 0.9583\n",
      "Epoch 82/100\n",
      "120/120 [==============================] - 0s 337us/sample - loss: 0.0750 - acc: 0.9750\n",
      "Epoch 83/100\n",
      "120/120 [==============================] - 0s 275us/sample - loss: 0.0751 - acc: 0.9583\n",
      "Epoch 84/100\n",
      "120/120 [==============================] - 0s 285us/sample - loss: 0.0790 - acc: 0.9750\n",
      "Epoch 85/100\n",
      "120/120 [==============================] - 0s 228us/sample - loss: 0.0663 - acc: 0.9833\n",
      "Epoch 86/100\n",
      "120/120 [==============================] - 0s 273us/sample - loss: 0.0720 - acc: 0.9667\n",
      "Epoch 87/100\n",
      "120/120 [==============================] - 0s 303us/sample - loss: 0.0638 - acc: 0.9833\n",
      "Epoch 88/100\n",
      "120/120 [==============================] - 0s 255us/sample - loss: 0.0751 - acc: 0.9667\n",
      "Epoch 89/100\n",
      "120/120 [==============================] - 0s 291us/sample - loss: 0.0965 - acc: 0.9500\n",
      "Epoch 90/100\n",
      "120/120 [==============================] - 0s 335us/sample - loss: 0.1145 - acc: 0.9667\n",
      "Epoch 91/100\n",
      "120/120 [==============================] - 0s 314us/sample - loss: 0.0847 - acc: 0.9583\n",
      "Epoch 92/100\n",
      "120/120 [==============================] - 0s 248us/sample - loss: 0.0661 - acc: 0.9833\n",
      "Epoch 93/100\n",
      "120/120 [==============================] - 0s 277us/sample - loss: 0.0644 - acc: 0.9833\n",
      "Epoch 94/100\n",
      "120/120 [==============================] - 0s 275us/sample - loss: 0.0732 - acc: 0.9750\n",
      "Epoch 95/100\n",
      "120/120 [==============================] - 0s 262us/sample - loss: 0.0688 - acc: 0.9833\n",
      "Epoch 96/100\n",
      "120/120 [==============================] - 0s 266us/sample - loss: 0.0643 - acc: 0.9750\n",
      "Epoch 97/100\n",
      "120/120 [==============================] - 0s 280us/sample - loss: 0.0621 - acc: 0.9833\n",
      "Epoch 98/100\n",
      "120/120 [==============================] - 0s 282us/sample - loss: 0.0610 - acc: 0.9833\n",
      "Epoch 99/100\n",
      "120/120 [==============================] - 0s 255us/sample - loss: 0.0614 - acc: 0.9833\n",
      "Epoch 100/100\n",
      "120/120 [==============================] - 0s 260us/sample - loss: 0.0634 - acc: 0.9833\n"
     ]
    }
   ],
   "source": [
    "history = model.fit(train_x, train_y, batch_size=10, epochs=100)"
   ]
  },
  {
   "cell_type": "code",
   "execution_count": 174,
   "metadata": {},
   "outputs": [
    {
     "name": "stdout",
     "output_type": "stream",
     "text": [
      "\r",
      "30/30 [==============================] - 0s 1ms/sample - loss: 0.0553 - acc: 0.9667\n"
     ]
    }
   ],
   "source": [
    "ret = model.evaluate(val_x, val_y)"
   ]
  },
  {
   "cell_type": "code",
   "execution_count": 175,
   "metadata": {},
   "outputs": [
    {
     "data": {
      "text/plain": [
       "<matplotlib.legend.Legend at 0x7f7e05c02e10>"
      ]
     },
     "execution_count": 175,
     "metadata": {},
     "output_type": "execute_result"
    },
    {
     "data": {
      "image/png": "[encoded data removed]",
      "text/plain": [
       "<Figure size 432x288 with 1 Axes>"
      ]
     },
     "metadata": {
      "needs_background": "light"
     },
     "output_type": "display_data"
    }
   ],
   "source": [
    "fig, ax = plt.subplots()\n",
    "ax.plot(history.history['acc'], label=\"Accuracy\")\n",
    "ax.plot(history.history['loss'], label=\"LOSS\")\n",
    "ax.legend()"
   ]
  }
 ],
 "metadata": {
  "kernelspec": {
   "display_name": "tensorflow",
   "language": "python",
   "name": "tensorflow"
  },
  "language_info": {
   "codemirror_mode": {
    "name": "ipython",
    "version": 3
   },
   "file_extension": ".py",
   "mimetype": "text/x-python",
   "name": "python",
   "nbconvert_exporter": "python",
   "pygments_lexer": "ipython3",
   "version": "3.7.4"
  }
 },
 "nbformat": 4,
 "nbformat_minor": 2
}
