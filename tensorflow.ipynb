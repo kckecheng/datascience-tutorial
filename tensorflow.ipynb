{
 "cells": [
  {
   "cell_type": "markdown",
   "metadata": {},
   "source": [
    "# ANN Introduction - Tensorflow Basics\n",
    "\n",
    "\n",
    "- [Numpy Introduction](#numpy_intro)\n",
    "  - [Reference](#numpy_ref)\n",
    "  - [Create Arrays](#numpy_create)\n",
    "    - [Manual Creation](#numpy_manual)\n",
    "    - [Reshape](#numpy_reshape)\n",
    "    - [zeors, ones, empty, random, randn](#numpy_init)\n",
    "  - [Array Propertites](#numpy_props)\n",
    "    - [ndim, shape, size, dtype](#numpy_basicprops)\n",
    "    - [Change dtype](#numpy_dtype)\n",
    "  - [Functions](#numpy_funcs)\n",
    "    - [Basic](#numpy_funcs_basic)\n",
    "    - [Customized Functions](#numpy_funcs_customized)  \n",
    "- [Tensorflow Introduction](#tfbasic)\n",
    "  - [Overview](#tfoverview)\n",
    "  - [Types of API](#tf_api)\n",
    "    - [Low Level API](#tf_lowapi)\n",
    "    - [High Level API](#tf_highapi)\n",
    "  - [Demo 1 - Regression](#d1)\n",
    "    - [Regression Target Function: y = x**2 + y**2](#d1_target)\n",
    "    - [Build the Model](#d1_b)\n",
    "    - [Train the Model](#d1_t)\n",
    "    - [Evaluate the Model](#d1_e)\n",
    "  - [Demo 2 - Binary Classification](#d2)\n",
    "    - [Load Data - Titanic](#d2_l)\n",
    "    - [Split Data](#d2_s)\n",
    "    - [Build the Model](#d2_b)\n",
    "    - [Train the Model](#d2_t)\n",
    "    - [Evaluate the Model](#d2_e)\n",
    "  - [Demo 3 - Multi-Class Classification](#d3)\n",
    "    - [Load Data - Iris](#d3_l)\n",
    "    - [Label Encode](#d3_c)\n",
    "    - [Split Data](#d3_s)\n",
    "    - [Build the Model](#d3_b)\n",
    "    - [Train the Model](#d3_t)\n",
    "    - [Evaluate the Model](#d3_e)"
   ]
  },
  {
   "cell_type": "code",
   "execution_count": null,
   "metadata": {},
   "outputs": [],
   "source": [
    "%matplotlib inline"
   ]
  },
  {
   "cell_type": "code",
   "execution_count": null,
   "metadata": {},
   "outputs": [],
   "source": [
    "import tensorflow as tf\n",
    "import matplotlib\n",
    "import matplotlib.pyplot as plt\n",
    "import numpy as np\n",
    "from tensorflow import keras\n",
    "from tensorflow.keras import layers"
   ]
  },
  {
   "cell_type": "markdown",
   "metadata": {},
   "source": [
    "# Numpy Introduction <a id='numpy_intro'></a>\n",
    "\n",
    "\n",
    "## Reference <a id='numpy_ref'></a>\n",
    "\n",
    "\n",
    "- Numpy Manual: https://docs.scipy.org/doc/numpy/\n",
    "\n",
    "## Create Arrays <a id='numpy_create'></a>"
   ]
  },
  {
   "cell_type": "markdown",
   "metadata": {},
   "source": [
    "### Manual Creation <a id='numpy_manual'></a>"
   ]
  },
  {
   "cell_type": "code",
   "execution_count": null,
   "metadata": {},
   "outputs": [],
   "source": [
    "a1 = np.array([[1,2,3],[4,5,6],[7,8,9]])\n",
    "a1"
   ]
  },
  {
   "cell_type": "markdown",
   "metadata": {},
   "source": [
    "### Reshape <a id='numpy_reshape'></a>"
   ]
  },
  {
   "cell_type": "code",
   "execution_count": null,
   "metadata": {},
   "outputs": [],
   "source": [
    "a2 = np.arange(1,10).reshape(3,3)\n",
    "a2"
   ]
  },
  {
   "cell_type": "markdown",
   "metadata": {},
   "source": [
    "### zeors, ones, empty, random, randn <a id='numpy_init'></a>"
   ]
  },
  {
   "cell_type": "code",
   "execution_count": null,
   "metadata": {},
   "outputs": [],
   "source": [
    "a3 = np.empty((3,3))\n",
    "a4 = np.zeros((3,3))\n",
    "a5 = np.ones((3,3))\n",
    "a6 = np.random.random((3,3))\n",
    "a7 = np.random.randn(3,3)"
   ]
  },
  {
   "cell_type": "code",
   "execution_count": null,
   "metadata": {
    "scrolled": true
   },
   "outputs": [],
   "source": [
    "print(a3)\n",
    "print(a4)\n",
    "print(a5)\n",
    "print(a6)\n",
    "print(a7)"
   ]
  },
  {
   "cell_type": "markdown",
   "metadata": {},
   "source": [
    "## Array Propertites <a id='numpy_props'></a>"
   ]
  },
  {
   "cell_type": "markdown",
   "metadata": {},
   "source": [
    "### ndim, shape, size, dtype <a id='numpy_basicprops'></a>"
   ]
  },
  {
   "cell_type": "code",
   "execution_count": null,
   "metadata": {},
   "outputs": [],
   "source": [
    "a1 = np.arange(1,10).reshape(3,3)\n",
    "a1"
   ]
  },
  {
   "cell_type": "code",
   "execution_count": null,
   "metadata": {},
   "outputs": [],
   "source": [
    "print(a1.ndim)\n",
    "print(a1.shape)\n",
    "print(a1.size)\n",
    "print(a1.dtype)"
   ]
  },
  {
   "cell_type": "markdown",
   "metadata": {},
   "source": [
    "### Change dtype <a id='numpy_dtype'></a>"
   ]
  },
  {
   "cell_type": "code",
   "execution_count": null,
   "metadata": {},
   "outputs": [],
   "source": [
    "a2 = a1.astype(float)\n",
    "print(a1)\n",
    "print(a1.dtype)\n",
    "print(a2)\n",
    "print(a2.dtype)"
   ]
  },
  {
   "cell_type": "markdown",
   "metadata": {},
   "source": [
    "## Functions <a id='numpy_funcs'></a>"
   ]
  },
  {
   "cell_type": "markdown",
   "metadata": {},
   "source": [
    "### Basic <a id='numpy_funcs_basic'></a>"
   ]
  },
  {
   "cell_type": "code",
   "execution_count": null,
   "metadata": {},
   "outputs": [],
   "source": [
    "a1 = np.array([[1,2,3], [4,5,6], [7,8,9]])\n",
    "a2 = np.ones((3,3))\n",
    "print(a1)\n",
    "print(a2)"
   ]
  },
  {
   "cell_type": "code",
   "execution_count": null,
   "metadata": {},
   "outputs": [],
   "source": [
    "print(a1 + a2)"
   ]
  },
  {
   "cell_type": "code",
   "execution_count": null,
   "metadata": {},
   "outputs": [],
   "source": [
    "print(a1 - a2)"
   ]
  },
  {
   "cell_type": "code",
   "execution_count": null,
   "metadata": {},
   "outputs": [],
   "source": [
    "print(a1 + 2 * a2)"
   ]
  },
  {
   "cell_type": "code",
   "execution_count": null,
   "metadata": {},
   "outputs": [],
   "source": [
    "print(a1.sum())\n",
    "print(a1.max())\n",
    "print(a1.min())"
   ]
  },
  {
   "cell_type": "markdown",
   "metadata": {},
   "source": [
    "### Customized Functions <a id='numpy_funcs_customized'></a>"
   ]
  },
  {
   "cell_type": "code",
   "execution_count": null,
   "metadata": {},
   "outputs": [],
   "source": [
    "def gaussian(x, m, s):\n",
    "    return (1.0 / (s * np.sqrt(2 * np.pi))) * np.exp(-np.power(x - m, 2.0) / (2 * np.power(s, 2.0)))"
   ]
  },
  {
   "cell_type": "code",
   "execution_count": null,
   "metadata": {},
   "outputs": [],
   "source": [
    "x = np.linspace(-5, 5, 200)"
   ]
  },
  {
   "cell_type": "code",
   "execution_count": null,
   "metadata": {},
   "outputs": [],
   "source": [
    "y = gaussian(x,0,1)"
   ]
  },
  {
   "cell_type": "code",
   "execution_count": null,
   "metadata": {},
   "outputs": [],
   "source": [
    "plt.plot(x,y)\n",
    "plt.show"
   ]
  },
  {
   "cell_type": "markdown",
   "metadata": {},
   "source": [
    "# Tensorflow Introduction <a id='tfbasic'></a>"
   ]
  },
  {
   "cell_type": "markdown",
   "metadata": {},
   "source": [
    "## Overview <a id='tfoverview'></a>\n",
    "\n",
    "- Developed by Google\n",
    "- Define functions/ops on tensors\n",
    "- Tensors flow on graphs"
   ]
  },
  {
   "cell_type": "markdown",
   "metadata": {},
   "source": [
    "**Tensors**\n",
    "\n",
    "![Tensors](images/tensor.png)"
   ]
  },
  {
   "cell_type": "markdown",
   "metadata": {},
   "source": [
    "**Flow**\n",
    "\n",
    "![Flow](images/tensor_flow.png)"
   ]
  },
  {
   "cell_type": "markdown",
   "metadata": {},
   "source": [
    "**Graph**\n",
    "\n",
    "![Data Graph](images/tensors_flowing.gif)"
   ]
  },
  {
   "cell_type": "markdown",
   "metadata": {},
   "source": [
    "**Architecture**: https://www.tensorflow.org/guide/extend/architecture"
   ]
  },
  {
   "cell_type": "markdown",
   "metadata": {},
   "source": [
    "**The 1st Impression**: MNIST classification (http://yann.lecun.com/exdb/mnist/)"
   ]
  },
  {
   "cell_type": "code",
   "execution_count": null,
   "metadata": {},
   "outputs": [],
   "source": [
    "import tensorflow as tf\n",
    "mnist = tf.keras.datasets.mnist\n",
    "\n",
    "(x_train, y_train),(x_test, y_test) = mnist.load_data()\n",
    "x_train, x_test = x_train / 255.0, x_test / 255.0"
   ]
  },
  {
   "cell_type": "code",
   "execution_count": null,
   "metadata": {},
   "outputs": [],
   "source": [
    "model = tf.keras.models.Sequential([\n",
    "  tf.keras.layers.Flatten(input_shape=(28, 28)),\n",
    "  tf.keras.layers.Dense(512, activation=\"relu\"),\n",
    "  tf.keras.layers.Dropout(0.2),\n",
    "  tf.keras.layers.Dense(10, activation=\"softmax\")\n",
    "])\n",
    "model.compile(optimizer='adam',\n",
    "              loss='sparse_categorical_crossentropy',\n",
    "              metrics=['accuracy'])"
   ]
  },
  {
   "cell_type": "code",
   "execution_count": null,
   "metadata": {},
   "outputs": [],
   "source": [
    "model.fit(x_train, y_train, epochs=5)"
   ]
  },
  {
   "cell_type": "code",
   "execution_count": null,
   "metadata": {},
   "outputs": [],
   "source": [
    "model.evaluate(x_test, y_test)"
   ]
  },
  {
   "cell_type": "code",
   "execution_count": null,
   "metadata": {},
   "outputs": [],
   "source": [
    "predictions = model.predict(x_test)"
   ]
  },
  {
   "cell_type": "code",
   "execution_count": null,
   "metadata": {},
   "outputs": [],
   "source": [
    "predictions[0]"
   ]
  },
  {
   "cell_type": "code",
   "execution_count": null,
   "metadata": {},
   "outputs": [],
   "source": [
    "np.argmax(predictions[0])"
   ]
  },
  {
   "cell_type": "code",
   "execution_count": null,
   "metadata": {},
   "outputs": [],
   "source": [
    "x_test[0]\n",
    "plt.figure()\n",
    "plt.imshow(x_test[0])\n",
    "plt.show()"
   ]
  },
  {
   "cell_type": "markdown",
   "metadata": {},
   "source": [
    "## Types of API <a id='tf_api'></a>"
   ]
  },
  {
   "cell_type": "markdown",
   "metadata": {},
   "source": [
    "### Low Level API <a id='tf_lowapi'></a>\n",
    "\n",
    "- TensorFlow Core\n",
    "- The interal exposed API for advanced users\n",
    "- Not recommended for most users"
   ]
  },
  {
   "cell_type": "markdown",
   "metadata": {},
   "source": [
    "### High Level API <a id='tf_highapi'></a>\n",
    "\n",
    "- Keras: https://keras.io/\n",
    "- Fast prototyping\n",
    "- Production\n",
    "- User friendly"
   ]
  },
  {
   "cell_type": "markdown",
   "metadata": {},
   "source": [
    "## Demo 1 - Regression <a id='d1'></a>"
   ]
  },
  {
   "cell_type": "markdown",
   "metadata": {},
   "source": [
    "**Regression Target Function**: y = x\\*\\*2 + y\\*\\*2 <a id='d1_target'></a>"
   ]
  },
  {
   "cell_type": "code",
   "execution_count": null,
   "metadata": {},
   "outputs": [],
   "source": [
    "from mpl_toolkits.mplot3d import Axes3D\n",
    "\n",
    "x = np.linspace(-10, 10, 100)\n",
    "y = np.linspace(-10, 10, 100)\n",
    "\n",
    "X, Y = np.meshgrid(x, y)\n",
    "Z = X**2 + Y**2\n",
    "\n",
    "fig = plt.figure()\n",
    "ax = fig.add_subplot(111, projection='3d')\n",
    "ax.plot_surface(X, Y, Z)"
   ]
  },
  {
   "cell_type": "markdown",
   "metadata": {},
   "source": [
    "### Build the Model <a id='d1_b'></a>\n",
    "\n",
    "- Input: [x, y]\n",
    "- Ouput: z\n",
    "- Num. of layers: 1 x Input + 1 x Hidden + 1 x Output = 3"
   ]
  },
  {
   "cell_type": "code",
   "execution_count": null,
   "metadata": {},
   "outputs": [],
   "source": [
    "model = keras.Sequential(\n",
    "    [\n",
    "        layers.Dense(64, activation='sigmoid', input_shape=(2,)),\n",
    "        layers.Dense(1)\n",
    "    ]\n",
    ")\n",
    "optimizer = keras.optimizers.RMSprop(0.01)\n",
    "model.compile(\n",
    "    loss='mse',\n",
    "    optimizer=optimizer,\n",
    "    metrics=['mse']\n",
    ")\n",
    "model.summary()"
   ]
  },
  {
   "cell_type": "markdown",
   "metadata": {},
   "source": [
    "### Train the Model <a id='d1_t'></a>"
   ]
  },
  {
   "cell_type": "code",
   "execution_count": null,
   "metadata": {},
   "outputs": [],
   "source": [
    "def sampling(x, y):\n",
    "    X, Y = np.meshgrid(x, y)\n",
    "    Z = X**2 + Y**2\n",
    "    samples = np.stack((X.flatten(),Y.flatten(),Z.flatten()), axis=1)\n",
    "    np.random.shuffle(samples)\n",
    "    return samples\n",
    "\n",
    "def split_labels(samples):\n",
    "    return (samples[:,0:-1], samples[:,-1])\n",
    "\n",
    "def split_samples(samples, ratio):\n",
    "    sep = int(samples.shape[0] * ratio)\n",
    "    return (samples[0:sep], samples[sep:])"
   ]
  },
  {
   "cell_type": "code",
   "execution_count": null,
   "metadata": {},
   "outputs": [],
   "source": [
    "x = np.linspace(-10, 10, 1000)\n",
    "y = np.linspace(-10, 10, 1000)\n",
    "\n",
    "samples = sampling(x, y)\n",
    "\n",
    "train_samples, test_samples = split_samples(samples, 0.8)\n",
    "\n",
    "(train_x, train_y) = split_labels(train_samples)\n",
    "(test_x, test_y) = split_labels(test_samples)\n",
    "\n",
    "history = model.fit(train_x, train_y, batch_size=100, epochs=10)"
   ]
  },
  {
   "cell_type": "markdown",
   "metadata": {},
   "source": [
    "### Evaluate the Model <a id='d1_e'></a>"
   ]
  },
  {
   "cell_type": "code",
   "execution_count": null,
   "metadata": {},
   "outputs": [],
   "source": [
    "ret = model.evaluate(test_x, test_y)"
   ]
  },
  {
   "cell_type": "code",
   "execution_count": null,
   "metadata": {},
   "outputs": [],
   "source": [
    "x = np.linspace(-10, 10, 100)\n",
    "y = np.linspace(-10, 10, 100)\n",
    "\n",
    "X, Y = np.meshgrid(x, y)\n",
    "Z = X**2 + Y**2\n",
    "\n",
    "v_samples = sampling(x, y)\n",
    "v_x, v_actual = split_labels(v_samples)\n",
    "v_y = model.predict(v_x)\n",
    "model.evaluate(v_x, v_actual)\n",
    "\n",
    "fig = plt.figure()\n",
    "ax = fig.add_subplot(111, projection='3d')\n",
    "ax.plot_surface(X, Y, Z)\n",
    "ax.plot_surface(X, Y, v_y.reshape(100,100))"
   ]
  },
  {
   "cell_type": "code",
   "execution_count": null,
   "metadata": {},
   "outputs": [],
   "source": [
    "history.history.keys()\n",
    "fig, ax = plt.subplots()\n",
    "ax.plot(history.history['mse'], label=\"MSE\")\n",
    "ax.plot(history.history['loss'], label=\"LOSS\")\n",
    "ax.legend()"
   ]
  },
  {
   "cell_type": "markdown",
   "metadata": {},
   "source": [
    "## Demo 2 - Binary Classification <a id='d2'></a>"
   ]
  },
  {
   "cell_type": "markdown",
   "metadata": {},
   "source": [
    "### Load Data - Titanic <a id='d2_l'></a>"
   ]
  },
  {
   "cell_type": "code",
   "execution_count": null,
   "metadata": {},
   "outputs": [],
   "source": [
    "import pandas as pd\n",
    "data_raw = pd.read_csv('data/titanic_train.csv')\n",
    "data = pd.read_csv('data/titanic_clean_numeric.csv')"
   ]
  },
  {
   "cell_type": "code",
   "execution_count": null,
   "metadata": {},
   "outputs": [],
   "source": [
    "data_raw.head()"
   ]
  },
  {
   "cell_type": "code",
   "execution_count": null,
   "metadata": {},
   "outputs": [],
   "source": [
    "data.head()"
   ]
  },
  {
   "cell_type": "markdown",
   "metadata": {},
   "source": [
    "### Split Data <a id='d2_s'></a>"
   ]
  },
  {
   "cell_type": "code",
   "execution_count": null,
   "metadata": {},
   "outputs": [],
   "source": [
    "data_train = data.loc[:599]\n",
    "data_val = data.loc[599:]"
   ]
  },
  {
   "cell_type": "code",
   "execution_count": null,
   "metadata": {},
   "outputs": [],
   "source": [
    "train_x = data_train.loc[:, data.columns != \"Survived\"]\n",
    "train_y = data_train.loc[:, data.columns == \"Survived\"]\n",
    "val_x = data_val.loc[:, data.columns != \"Survived\"]\n",
    "val_y = data_val.loc[:, data.columns == \"Survived\"]"
   ]
  },
  {
   "cell_type": "code",
   "execution_count": null,
   "metadata": {},
   "outputs": [],
   "source": [
    "print(train_x.shape)\n",
    "print(train_y.shape)\n",
    "print(val_x.shape)\n",
    "print(val_y.shape)"
   ]
  },
  {
   "cell_type": "markdown",
   "metadata": {},
   "source": [
    "### Build the Model <a id='d2_b'></a>"
   ]
  },
  {
   "cell_type": "code",
   "execution_count": null,
   "metadata": {},
   "outputs": [],
   "source": [
    "model = keras.Sequential(\n",
    "    [\n",
    "        layers.Dense(6, activation='sigmoid', input_shape=(11,)),\n",
    "        layers.Dense(6, activation='relu'),\n",
    "        layers.Dense(1, activation='sigmoid')\n",
    "    ]\n",
    ")\n",
    "optimizer = keras.optimizers.Adam(0.01)\n",
    "model.compile(\n",
    "    loss='binary_crossentropy',\n",
    "    optimizer=optimizer,\n",
    "    metrics=['acc']\n",
    ")\n",
    "model.summary()"
   ]
  },
  {
   "cell_type": "markdown",
   "metadata": {},
   "source": [
    "### Train the Model <a id='d2_t'></a>"
   ]
  },
  {
   "cell_type": "code",
   "execution_count": null,
   "metadata": {},
   "outputs": [],
   "source": [
    "history = model.fit(train_x, train_y, batch_size=10, epochs=100)"
   ]
  },
  {
   "cell_type": "markdown",
   "metadata": {},
   "source": [
    "### Evaluate the Model <a id='d2_e'></a>"
   ]
  },
  {
   "cell_type": "code",
   "execution_count": null,
   "metadata": {},
   "outputs": [],
   "source": [
    "ret = model.evaluate(val_x, val_y)"
   ]
  },
  {
   "cell_type": "code",
   "execution_count": null,
   "metadata": {},
   "outputs": [],
   "source": [
    "fig, ax = plt.subplots()\n",
    "ax.plot(history.history['acc'], label=\"Accuracy\")\n",
    "ax.plot(history.history['loss'], label=\"LOSS\")\n",
    "ax.legend()"
   ]
  },
  {
   "cell_type": "markdown",
   "metadata": {},
   "source": [
    "## Demo 3 - Multi-Class Classification <a id='d3'></a>"
   ]
  },
  {
   "cell_type": "markdown",
   "metadata": {},
   "source": [
    "### Load Data - Iris <a id='d3_l'></a>\n",
    "\n",
    "The iris dataset can be downloaded from http://archive.ics.uci.edu/ml/datasets/Iris"
   ]
  },
  {
   "cell_type": "code",
   "execution_count": null,
   "metadata": {},
   "outputs": [],
   "source": [
    "import pandas as pd\n",
    "data = pd.read_csv(\"data/iris.csv\", header=None)\n",
    "data.head()"
   ]
  },
  {
   "cell_type": "code",
   "execution_count": null,
   "metadata": {},
   "outputs": [],
   "source": [
    "data.columns = [\"sepal_l\", \"sepal_w\", \"petal_l\", \"petal_w\", \"class\"]"
   ]
  },
  {
   "cell_type": "code",
   "execution_count": null,
   "metadata": {},
   "outputs": [],
   "source": [
    "data.head()"
   ]
  },
  {
   "cell_type": "code",
   "execution_count": null,
   "metadata": {},
   "outputs": [],
   "source": [
    "data = data.sample(frac=1)"
   ]
  },
  {
   "cell_type": "code",
   "execution_count": null,
   "metadata": {},
   "outputs": [],
   "source": [
    "data.head()"
   ]
  },
  {
   "cell_type": "markdown",
   "metadata": {},
   "source": [
    "### Label Encode <a id='d3_c'></a>"
   ]
  },
  {
   "cell_type": "code",
   "execution_count": null,
   "metadata": {},
   "outputs": [],
   "source": [
    "data[\"class\"].value_counts()"
   ]
  },
  {
   "cell_type": "code",
   "execution_count": null,
   "metadata": {},
   "outputs": [],
   "source": [
    "data[\"versicolor\"] = data[\"class\"].apply(lambda x: 1 if x == \"Iris-versicolor\" else 0)\n",
    "data[\"virginica\"] = data[\"class\"].apply(lambda x: 1 if x == \"Iris-virginica\" else 0)\n",
    "data[\"setosa\"] = data[\"class\"].apply(lambda x: 1 if x == \"Iris-setosa\" else 0)"
   ]
  },
  {
   "cell_type": "code",
   "execution_count": null,
   "metadata": {},
   "outputs": [],
   "source": [
    "data.drop([\"class\"],axis=1, inplace=True)"
   ]
  },
  {
   "cell_type": "code",
   "execution_count": null,
   "metadata": {},
   "outputs": [],
   "source": [
    "data.head()"
   ]
  },
  {
   "cell_type": "markdown",
   "metadata": {},
   "source": [
    "### Split Data <a id='d3_s'></a>"
   ]
  },
  {
   "cell_type": "code",
   "execution_count": null,
   "metadata": {},
   "outputs": [],
   "source": [
    "len(data)"
   ]
  },
  {
   "cell_type": "code",
   "execution_count": null,
   "metadata": {},
   "outputs": [],
   "source": [
    "train = data[0:120]\n",
    "val = data[120:]"
   ]
  },
  {
   "cell_type": "code",
   "execution_count": null,
   "metadata": {},
   "outputs": [],
   "source": [
    "train_x, train_y = train.iloc[:,0:4], train.iloc[:,4:]\n",
    "val_x, val_y = val.iloc[:,0:4], val.iloc[:,4:]"
   ]
  },
  {
   "cell_type": "code",
   "execution_count": null,
   "metadata": {},
   "outputs": [],
   "source": [
    "train_x.head()"
   ]
  },
  {
   "cell_type": "code",
   "execution_count": null,
   "metadata": {},
   "outputs": [],
   "source": [
    "train_y.head()"
   ]
  },
  {
   "cell_type": "markdown",
   "metadata": {},
   "source": [
    "### Build the Model <a id='d3_b'></a>"
   ]
  },
  {
   "cell_type": "code",
   "execution_count": null,
   "metadata": {
    "scrolled": true
   },
   "outputs": [],
   "source": [
    "model = keras.Sequential(\n",
    "    [\n",
    "        layers.Dense(8, activation='sigmoid', input_shape=(4,)),\n",
    "        layers.Dense(3, activation='softmax')\n",
    "    ]\n",
    ")\n",
    "optimizer = keras.optimizers.Adam(0.01)\n",
    "model.compile(\n",
    "    loss='categorical_crossentropy',\n",
    "    optimizer=optimizer,\n",
    "    metrics=['acc']\n",
    ")\n",
    "model.summary()"
   ]
  },
  {
   "cell_type": "markdown",
   "metadata": {},
   "source": [
    "### Train the Model <a id='d3_t'></a>"
   ]
  },
  {
   "cell_type": "code",
   "execution_count": null,
   "metadata": {},
   "outputs": [],
   "source": [
    "history = model.fit(train_x, train_y, batch_size=10, epochs=100)"
   ]
  },
  {
   "cell_type": "markdown",
   "metadata": {},
   "source": [
    "### Evaluate the Model <a id='d3_e'></a>"
   ]
  },
  {
   "cell_type": "code",
   "execution_count": null,
   "metadata": {},
   "outputs": [],
   "source": [
    "ret = model.evaluate(val_x, val_y)"
   ]
  },
  {
   "cell_type": "code",
   "execution_count": null,
   "metadata": {},
   "outputs": [],
   "source": [
    "fig, ax = plt.subplots()\n",
    "ax.plot(history.history['acc'], label=\"Accuracy\")\n",
    "ax.plot(history.history['loss'], label=\"LOSS\")\n",
    "ax.legend()"
   ]
  }
 ],
 "metadata": {
  "kernelspec": {
   "display_name": "tensorflow",
   "language": "python",
   "name": "tensorflow"
  },
  "language_info": {
   "codemirror_mode": {
    "name": "ipython",
    "version": 3
   },
   "file_extension": ".py",
   "mimetype": "text/x-python",
   "name": "python",
   "nbconvert_exporter": "python",
   "pygments_lexer": "ipython3",
   "version": "3.7.4"
  }
 },
 "nbformat": 4,
 "nbformat_minor": 2
}
